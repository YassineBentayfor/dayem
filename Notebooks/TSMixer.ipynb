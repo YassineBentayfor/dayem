{
  "nbformat": 4,
  "nbformat_minor": 0,
  "metadata": {
    "colab": {
      "provenance": []
    },
    "kernelspec": {
      "name": "python3",
      "display_name": "Python 3"
    },
    "language_info": {
      "name": "python"
    }
  },
  "cells": [
    {
      "cell_type": "code",
      "source": [
        "import pandas as pd\n",
        "import torch\n",
        "import torch.nn as nn\n",
        "import torch.optim as optim\n",
        "import matplotlib.pyplot as plt\n",
        "import numpy as np\n",
        "from torchtsmixer import TSMixer"
      ],
      "metadata": {
        "id": "NDcJsVAOQsiG"
      },
      "execution_count": null,
      "outputs": []
    },
    {
      "cell_type": "code",
      "source": [
        "#df = pd.read_csv(\"/content/Morocco 2023-05-18 to 2024-05-17.csv\")\n",
        "\n",
        "data1 = pd.read_csv(\"/content/morocco 2022-01-01 to 2022-12-31.csv\")\n",
        "data2 = pd.read_csv(\"/content/morocco 2021-01-01 to 2021-12-31.csv\")\n",
        "data3 = pd.read_csv(\"/content/morocco 2023-01-01 to 2023-05-01.csv\")\n",
        "\n",
        "df = pd.concat([data1, data2, data3], axis=0)\n",
        "df.reset_index(drop=True, inplace=True)\n"
      ],
      "metadata": {
        "id": "tIMjKzDnQwrt"
      },
      "execution_count": null,
      "outputs": []
    },
    {
      "cell_type": "code",
      "source": [
        "df['datetime'] = pd.to_datetime(df['datetime'])\n",
        "df.set_index('datetime', inplace=True)"
      ],
      "metadata": {
        "id": "OKQfPMPVRT6c"
      },
      "execution_count": null,
      "outputs": []
    },
    {
      "cell_type": "code",
      "source": [
        "data = df[['humidity', 'temp', 'precip']]"
      ],
      "metadata": {
        "id": "gbamGD1Pe0P4"
      },
      "execution_count": null,
      "outputs": []
    },
    {
      "cell_type": "code",
      "source": [
        "data.head()"
      ],
      "metadata": {
        "colab": {
          "base_uri": "https://localhost:8080/",
          "height": 237
        },
        "id": "CH5gItvBxb8l",
        "outputId": "27c9b6fe-f504-4624-eb6b-fea2328c4f44"
      },
      "execution_count": null,
      "outputs": [
        {
          "output_type": "execute_result",
          "data": {
            "text/plain": [
              "            humidity  temp  precip\n",
              "datetime                          \n",
              "2022-01-01      86.2  54.2   0.004\n",
              "2022-01-02      97.3  52.3   0.008\n",
              "2022-01-03      97.6  52.7   0.020\n",
              "2022-01-04      94.6  54.4   0.032\n",
              "2022-01-05      82.8  54.2   0.016"
            ],
            "text/html": [
              "\n",
              "  <div id=\"df-141f34f4-9874-4697-b5df-8d5b466fe6ba\" class=\"colab-df-container\">\n",
              "    <div>\n",
              "<style scoped>\n",
              "    .dataframe tbody tr th:only-of-type {\n",
              "        vertical-align: middle;\n",
              "    }\n",
              "\n",
              "    .dataframe tbody tr th {\n",
              "        vertical-align: top;\n",
              "    }\n",
              "\n",
              "    .dataframe thead th {\n",
              "        text-align: right;\n",
              "    }\n",
              "</style>\n",
              "<table border=\"1\" class=\"dataframe\">\n",
              "  <thead>\n",
              "    <tr style=\"text-align: right;\">\n",
              "      <th></th>\n",
              "      <th>humidity</th>\n",
              "      <th>temp</th>\n",
              "      <th>precip</th>\n",
              "    </tr>\n",
              "    <tr>\n",
              "      <th>datetime</th>\n",
              "      <th></th>\n",
              "      <th></th>\n",
              "      <th></th>\n",
              "    </tr>\n",
              "  </thead>\n",
              "  <tbody>\n",
              "    <tr>\n",
              "      <th>2022-01-01</th>\n",
              "      <td>86.2</td>\n",
              "      <td>54.2</td>\n",
              "      <td>0.004</td>\n",
              "    </tr>\n",
              "    <tr>\n",
              "      <th>2022-01-02</th>\n",
              "      <td>97.3</td>\n",
              "      <td>52.3</td>\n",
              "      <td>0.008</td>\n",
              "    </tr>\n",
              "    <tr>\n",
              "      <th>2022-01-03</th>\n",
              "      <td>97.6</td>\n",
              "      <td>52.7</td>\n",
              "      <td>0.020</td>\n",
              "    </tr>\n",
              "    <tr>\n",
              "      <th>2022-01-04</th>\n",
              "      <td>94.6</td>\n",
              "      <td>54.4</td>\n",
              "      <td>0.032</td>\n",
              "    </tr>\n",
              "    <tr>\n",
              "      <th>2022-01-05</th>\n",
              "      <td>82.8</td>\n",
              "      <td>54.2</td>\n",
              "      <td>0.016</td>\n",
              "    </tr>\n",
              "  </tbody>\n",
              "</table>\n",
              "</div>\n",
              "    <div class=\"colab-df-buttons\">\n",
              "\n",
              "  <div class=\"colab-df-container\">\n",
              "    <button class=\"colab-df-convert\" onclick=\"convertToInteractive('df-141f34f4-9874-4697-b5df-8d5b466fe6ba')\"\n",
              "            title=\"Convert this dataframe to an interactive table.\"\n",
              "            style=\"display:none;\">\n",
              "\n",
              "  <svg xmlns=\"http://www.w3.org/2000/svg\" height=\"24px\" viewBox=\"0 -960 960 960\">\n",
              "    <path d=\"M120-120v-720h720v720H120Zm60-500h600v-160H180v160Zm220 220h160v-160H400v160Zm0 220h160v-160H400v160ZM180-400h160v-160H180v160Zm440 0h160v-160H620v160ZM180-180h160v-160H180v160Zm440 0h160v-160H620v160Z\"/>\n",
              "  </svg>\n",
              "    </button>\n",
              "\n",
              "  <style>\n",
              "    .colab-df-container {\n",
              "      display:flex;\n",
              "      gap: 12px;\n",
              "    }\n",
              "\n",
              "    .colab-df-convert {\n",
              "      background-color: #E8F0FE;\n",
              "      border: none;\n",
              "      border-radius: 50%;\n",
              "      cursor: pointer;\n",
              "      display: none;\n",
              "      fill: #1967D2;\n",
              "      height: 32px;\n",
              "      padding: 0 0 0 0;\n",
              "      width: 32px;\n",
              "    }\n",
              "\n",
              "    .colab-df-convert:hover {\n",
              "      background-color: #E2EBFA;\n",
              "      box-shadow: 0px 1px 2px rgba(60, 64, 67, 0.3), 0px 1px 3px 1px rgba(60, 64, 67, 0.15);\n",
              "      fill: #174EA6;\n",
              "    }\n",
              "\n",
              "    .colab-df-buttons div {\n",
              "      margin-bottom: 4px;\n",
              "    }\n",
              "\n",
              "    [theme=dark] .colab-df-convert {\n",
              "      background-color: #3B4455;\n",
              "      fill: #D2E3FC;\n",
              "    }\n",
              "\n",
              "    [theme=dark] .colab-df-convert:hover {\n",
              "      background-color: #434B5C;\n",
              "      box-shadow: 0px 1px 3px 1px rgba(0, 0, 0, 0.15);\n",
              "      filter: drop-shadow(0px 1px 2px rgba(0, 0, 0, 0.3));\n",
              "      fill: #FFFFFF;\n",
              "    }\n",
              "  </style>\n",
              "\n",
              "    <script>\n",
              "      const buttonEl =\n",
              "        document.querySelector('#df-141f34f4-9874-4697-b5df-8d5b466fe6ba button.colab-df-convert');\n",
              "      buttonEl.style.display =\n",
              "        google.colab.kernel.accessAllowed ? 'block' : 'none';\n",
              "\n",
              "      async function convertToInteractive(key) {\n",
              "        const element = document.querySelector('#df-141f34f4-9874-4697-b5df-8d5b466fe6ba');\n",
              "        const dataTable =\n",
              "          await google.colab.kernel.invokeFunction('convertToInteractive',\n",
              "                                                    [key], {});\n",
              "        if (!dataTable) return;\n",
              "\n",
              "        const docLinkHtml = 'Like what you see? Visit the ' +\n",
              "          '<a target=\"_blank\" href=https://colab.research.google.com/notebooks/data_table.ipynb>data table notebook</a>'\n",
              "          + ' to learn more about interactive tables.';\n",
              "        element.innerHTML = '';\n",
              "        dataTable['output_type'] = 'display_data';\n",
              "        await google.colab.output.renderOutput(dataTable, element);\n",
              "        const docLink = document.createElement('div');\n",
              "        docLink.innerHTML = docLinkHtml;\n",
              "        element.appendChild(docLink);\n",
              "      }\n",
              "    </script>\n",
              "  </div>\n",
              "\n",
              "\n",
              "<div id=\"df-94df01b8-d264-4156-a738-2767f93d3e87\">\n",
              "  <button class=\"colab-df-quickchart\" onclick=\"quickchart('df-94df01b8-d264-4156-a738-2767f93d3e87')\"\n",
              "            title=\"Suggest charts\"\n",
              "            style=\"display:none;\">\n",
              "\n",
              "<svg xmlns=\"http://www.w3.org/2000/svg\" height=\"24px\"viewBox=\"0 0 24 24\"\n",
              "     width=\"24px\">\n",
              "    <g>\n",
              "        <path d=\"M19 3H5c-1.1 0-2 .9-2 2v14c0 1.1.9 2 2 2h14c1.1 0 2-.9 2-2V5c0-1.1-.9-2-2-2zM9 17H7v-7h2v7zm4 0h-2V7h2v10zm4 0h-2v-4h2v4z\"/>\n",
              "    </g>\n",
              "</svg>\n",
              "  </button>\n",
              "\n",
              "<style>\n",
              "  .colab-df-quickchart {\n",
              "      --bg-color: #E8F0FE;\n",
              "      --fill-color: #1967D2;\n",
              "      --hover-bg-color: #E2EBFA;\n",
              "      --hover-fill-color: #174EA6;\n",
              "      --disabled-fill-color: #AAA;\n",
              "      --disabled-bg-color: #DDD;\n",
              "  }\n",
              "\n",
              "  [theme=dark] .colab-df-quickchart {\n",
              "      --bg-color: #3B4455;\n",
              "      --fill-color: #D2E3FC;\n",
              "      --hover-bg-color: #434B5C;\n",
              "      --hover-fill-color: #FFFFFF;\n",
              "      --disabled-bg-color: #3B4455;\n",
              "      --disabled-fill-color: #666;\n",
              "  }\n",
              "\n",
              "  .colab-df-quickchart {\n",
              "    background-color: var(--bg-color);\n",
              "    border: none;\n",
              "    border-radius: 50%;\n",
              "    cursor: pointer;\n",
              "    display: none;\n",
              "    fill: var(--fill-color);\n",
              "    height: 32px;\n",
              "    padding: 0;\n",
              "    width: 32px;\n",
              "  }\n",
              "\n",
              "  .colab-df-quickchart:hover {\n",
              "    background-color: var(--hover-bg-color);\n",
              "    box-shadow: 0 1px 2px rgba(60, 64, 67, 0.3), 0 1px 3px 1px rgba(60, 64, 67, 0.15);\n",
              "    fill: var(--button-hover-fill-color);\n",
              "  }\n",
              "\n",
              "  .colab-df-quickchart-complete:disabled,\n",
              "  .colab-df-quickchart-complete:disabled:hover {\n",
              "    background-color: var(--disabled-bg-color);\n",
              "    fill: var(--disabled-fill-color);\n",
              "    box-shadow: none;\n",
              "  }\n",
              "\n",
              "  .colab-df-spinner {\n",
              "    border: 2px solid var(--fill-color);\n",
              "    border-color: transparent;\n",
              "    border-bottom-color: var(--fill-color);\n",
              "    animation:\n",
              "      spin 1s steps(1) infinite;\n",
              "  }\n",
              "\n",
              "  @keyframes spin {\n",
              "    0% {\n",
              "      border-color: transparent;\n",
              "      border-bottom-color: var(--fill-color);\n",
              "      border-left-color: var(--fill-color);\n",
              "    }\n",
              "    20% {\n",
              "      border-color: transparent;\n",
              "      border-left-color: var(--fill-color);\n",
              "      border-top-color: var(--fill-color);\n",
              "    }\n",
              "    30% {\n",
              "      border-color: transparent;\n",
              "      border-left-color: var(--fill-color);\n",
              "      border-top-color: var(--fill-color);\n",
              "      border-right-color: var(--fill-color);\n",
              "    }\n",
              "    40% {\n",
              "      border-color: transparent;\n",
              "      border-right-color: var(--fill-color);\n",
              "      border-top-color: var(--fill-color);\n",
              "    }\n",
              "    60% {\n",
              "      border-color: transparent;\n",
              "      border-right-color: var(--fill-color);\n",
              "    }\n",
              "    80% {\n",
              "      border-color: transparent;\n",
              "      border-right-color: var(--fill-color);\n",
              "      border-bottom-color: var(--fill-color);\n",
              "    }\n",
              "    90% {\n",
              "      border-color: transparent;\n",
              "      border-bottom-color: var(--fill-color);\n",
              "    }\n",
              "  }\n",
              "</style>\n",
              "\n",
              "  <script>\n",
              "    async function quickchart(key) {\n",
              "      const quickchartButtonEl =\n",
              "        document.querySelector('#' + key + ' button');\n",
              "      quickchartButtonEl.disabled = true;  // To prevent multiple clicks.\n",
              "      quickchartButtonEl.classList.add('colab-df-spinner');\n",
              "      try {\n",
              "        const charts = await google.colab.kernel.invokeFunction(\n",
              "            'suggestCharts', [key], {});\n",
              "      } catch (error) {\n",
              "        console.error('Error during call to suggestCharts:', error);\n",
              "      }\n",
              "      quickchartButtonEl.classList.remove('colab-df-spinner');\n",
              "      quickchartButtonEl.classList.add('colab-df-quickchart-complete');\n",
              "    }\n",
              "    (() => {\n",
              "      let quickchartButtonEl =\n",
              "        document.querySelector('#df-94df01b8-d264-4156-a738-2767f93d3e87 button');\n",
              "      quickchartButtonEl.style.display =\n",
              "        google.colab.kernel.accessAllowed ? 'block' : 'none';\n",
              "    })();\n",
              "  </script>\n",
              "</div>\n",
              "\n",
              "    </div>\n",
              "  </div>\n"
            ],
            "application/vnd.google.colaboratory.intrinsic+json": {
              "type": "dataframe",
              "variable_name": "data",
              "summary": "{\n  \"name\": \"data\",\n  \"rows\": 851,\n  \"fields\": [\n    {\n      \"column\": \"datetime\",\n      \"properties\": {\n        \"dtype\": \"date\",\n        \"min\": \"2021-01-01 00:00:00\",\n        \"max\": \"2023-05-01 00:00:00\",\n        \"num_unique_values\": 851,\n        \"samples\": [\n          \"2022-03-08 00:00:00\",\n          \"2022-11-13 00:00:00\",\n          \"2021-10-21 00:00:00\"\n        ],\n        \"semantic_type\": \"\",\n        \"description\": \"\"\n      }\n    },\n    {\n      \"column\": \"humidity\",\n      \"properties\": {\n        \"dtype\": \"number\",\n        \"std\": 9.238559162883389,\n        \"min\": 26.2,\n        \"max\": 99.1,\n        \"num_unique_values\": 293,\n        \"samples\": [\n          58.8,\n          81.0,\n          75.8\n        ],\n        \"semantic_type\": \"\",\n        \"description\": \"\"\n      }\n    },\n    {\n      \"column\": \"temp\",\n      \"properties\": {\n        \"dtype\": \"number\",\n        \"std\": 7.58444461360039,\n        \"min\": 44.4,\n        \"max\": 83.1,\n        \"num_unique_values\": 276,\n        \"samples\": [\n          54.8,\n          67.0,\n          62.4\n        ],\n        \"semantic_type\": \"\",\n        \"description\": \"\"\n      }\n    },\n    {\n      \"column\": \"precip\",\n      \"properties\": {\n        \"dtype\": \"number\",\n        \"std\": 0.1916318778152772,\n        \"min\": 0.0,\n        \"max\": 3.267,\n        \"num_unique_values\": 79,\n        \"samples\": [\n          0.421,\n          0.004,\n          0.488\n        ],\n        \"semantic_type\": \"\",\n        \"description\": \"\"\n      }\n    }\n  ]\n}"
            }
          },
          "metadata": {},
          "execution_count": 333
        }
      ]
    },
    {
      "cell_type": "markdown",
      "source": [],
      "metadata": {
        "id": "nL2lb_8gs0X2"
      }
    },
    {
      "cell_type": "code",
      "source": [
        "# Model parameters\n",
        "sequence_length = 10\n",
        "prediction_length = 5\n",
        "input_channels = 3\n",
        "output_channels = 3"
      ],
      "metadata": {
        "id": "uY8m9Z3UyiDh"
      },
      "execution_count": null,
      "outputs": []
    },
    {
      "cell_type": "code",
      "source": [
        "print(data.shape)"
      ],
      "metadata": {
        "colab": {
          "base_uri": "https://localhost:8080/"
        },
        "id": "BtQyy6KXyjWu",
        "outputId": "68f0b8e9-cef2-4d7e-d114-d2666d8851de"
      },
      "execution_count": null,
      "outputs": [
        {
          "output_type": "stream",
          "name": "stdout",
          "text": [
            "(851, 3)\n"
          ]
        }
      ]
    },
    {
      "cell_type": "code",
      "source": [
        "torch.tensor(data.to_numpy()).shape"
      ],
      "metadata": {
        "colab": {
          "base_uri": "https://localhost:8080/"
        },
        "id": "a0l-35S0zF7R",
        "outputId": "655f4bea-812e-46a9-c866-d0520d534721"
      },
      "execution_count": null,
      "outputs": [
        {
          "output_type": "execute_result",
          "data": {
            "text/plain": [
              "torch.Size([851, 3])"
            ]
          },
          "metadata": {},
          "execution_count": 336
        }
      ]
    },
    {
      "cell_type": "code",
      "source": [
        "X_format = torch.tensor(data.to_numpy())[:720].reshape((-1, sequence_length+prediction_length, input_channels))\n",
        "X, y = X_format[:,:sequence_length,:], X_format[:,sequence_length:,:]"
      ],
      "metadata": {
        "id": "IGfYVx1-xU1l"
      },
      "execution_count": null,
      "outputs": []
    },
    {
      "cell_type": "code",
      "source": [
        "print(X.shape)\n",
        "print(y.shape)\n",
        "print(t.shape)"
      ],
      "metadata": {
        "colab": {
          "base_uri": "https://localhost:8080/"
        },
        "id": "ruFjVO3BFRTD",
        "outputId": "890db641-6a94-42af-85b8-eaed88972f55"
      },
      "execution_count": null,
      "outputs": [
        {
          "output_type": "stream",
          "name": "stdout",
          "text": [
            "torch.Size([48, 10, 3])\n",
            "torch.Size([48, 5, 3])\n",
            "torch.Size([360, 24, 10, 3])\n"
          ]
        }
      ]
    },
    {
      "cell_type": "code",
      "source": [
        "# split to train / test\n",
        "# X_train, X_test, y_train, y_test = train_test_split(X, y, test_size=0.2, random_state=42)\n",
        "\n",
        "gap = 35\n",
        "\n",
        "X_train, X_test, y_train, y_test = X[:-gap], X[-gap:], y[:-gap], y[-gap:]"
      ],
      "metadata": {
        "id": "2tZSlmOfz3LI"
      },
      "execution_count": null,
      "outputs": []
    },
    {
      "cell_type": "code",
      "source": [
        "X_train.shape"
      ],
      "metadata": {
        "colab": {
          "base_uri": "https://localhost:8080/"
        },
        "id": "H8yMAaLAXAIM",
        "outputId": "917ed9e6-bed9-4278-d45a-bea867d56e49"
      },
      "execution_count": null,
      "outputs": [
        {
          "output_type": "execute_result",
          "data": {
            "text/plain": [
              "torch.Size([13, 10, 3])"
            ]
          },
          "metadata": {},
          "execution_count": 341
        }
      ]
    },
    {
      "cell_type": "code",
      "source": [
        "y_test.shape"
      ],
      "metadata": {
        "colab": {
          "base_uri": "https://localhost:8080/"
        },
        "id": "bT9x-hijWkW_",
        "outputId": "bf818ea9-170c-4fdb-f92c-062e5421897d"
      },
      "execution_count": null,
      "outputs": [
        {
          "output_type": "execute_result",
          "data": {
            "text/plain": [
              "torch.Size([35, 5, 3])"
            ]
          },
          "metadata": {},
          "execution_count": 342
        }
      ]
    },
    {
      "cell_type": "code",
      "source": [
        "model = TSMixer(sequence_length, prediction_length, input_channels, output_channels)\n",
        "criterion = nn.MSELoss()\n",
        "optimizer = optim.Adam(model.parameters(), lr=0.1)\n",
        "# scheduler = ReduceLROnPlateau(optimizer, 'min')"
      ],
      "metadata": {
        "id": "08Vtp6FR5xGY"
      },
      "execution_count": null,
      "outputs": []
    },
    {
      "cell_type": "code",
      "source": [
        "# X_train = torch.randn((32,10,seq,chenn))---\n",
        "\n",
        "num_epochs = 5000\n",
        "\n",
        "\n",
        "for epoch in range(num_epochs):\n",
        "    model.train()\n",
        "    # for _X,_y in zip(X_train, y_train):\n",
        "    # Zero the parameter gradients\n",
        "    optimizer.zero_grad()\n",
        "\n",
        "    # Forward pass\n",
        "    outputs = model(X_train.float())\n",
        "    #rint(f\"outputs: {outputs.shape}\")\n",
        "    #print(f\"y_train: {y_train.shape}\")\n",
        "    loss = criterion(outputs, y_train.float())\n",
        "\n",
        "    # Backward pass and optimize\n",
        "    loss.backward()\n",
        "    optimizer.step()\n",
        "\n",
        "    if epoch % 50 == 0:\n",
        "        print(f'Epoch [{epoch+1}/{num_epochs}], Loss: {loss.item():.4f}')\n",
        "\n",
        "print(\"Training complete\")"
      ],
      "metadata": {
        "colab": {
          "base_uri": "https://localhost:8080/"
        },
        "id": "oeV9DzmL6dOc",
        "outputId": "aef8cc21-5083-4a42-ab6a-cde427fc6259"
      },
      "execution_count": null,
      "outputs": [
        {
          "output_type": "stream",
          "name": "stdout",
          "text": [
            "Epoch [1/5000], Loss: 3458.8020\n",
            "Epoch [51/5000], Loss: 72.2205\n",
            "Epoch [101/5000], Loss: 79.2948\n",
            "Epoch [151/5000], Loss: 60.0316\n",
            "Epoch [201/5000], Loss: 61.3518\n",
            "Epoch [251/5000], Loss: 55.3798\n",
            "Epoch [301/5000], Loss: 23.0671\n",
            "Epoch [351/5000], Loss: 23.8924\n",
            "Epoch [401/5000], Loss: 17.9191\n",
            "Epoch [451/5000], Loss: 13.5087\n",
            "Epoch [501/5000], Loss: 9.9160\n",
            "Epoch [551/5000], Loss: 8.8872\n",
            "Epoch [601/5000], Loss: 6.6646\n",
            "Epoch [651/5000], Loss: 7.5917\n",
            "Epoch [701/5000], Loss: 7.1447\n",
            "Epoch [751/5000], Loss: 5.9095\n",
            "Epoch [801/5000], Loss: 5.0127\n",
            "Epoch [851/5000], Loss: 4.4929\n",
            "Epoch [901/5000], Loss: 7.4638\n",
            "Epoch [951/5000], Loss: 4.1954\n",
            "Epoch [1001/5000], Loss: 3.4967\n",
            "Epoch [1051/5000], Loss: 4.6386\n",
            "Epoch [1101/5000], Loss: 4.4743\n",
            "Epoch [1151/5000], Loss: 3.8523\n",
            "Epoch [1201/5000], Loss: 3.6097\n",
            "Epoch [1251/5000], Loss: 3.2576\n",
            "Epoch [1301/5000], Loss: 3.2440\n",
            "Epoch [1351/5000], Loss: 3.1512\n",
            "Epoch [1401/5000], Loss: 4.1312\n",
            "Epoch [1451/5000], Loss: 2.1324\n",
            "Epoch [1501/5000], Loss: 3.1510\n",
            "Epoch [1551/5000], Loss: 3.3971\n",
            "Epoch [1601/5000], Loss: 2.9824\n",
            "Epoch [1651/5000], Loss: 2.1677\n",
            "Epoch [1701/5000], Loss: 3.4919\n",
            "Epoch [1751/5000], Loss: 3.5329\n",
            "Epoch [1801/5000], Loss: 3.0831\n",
            "Epoch [1851/5000], Loss: 3.1433\n",
            "Epoch [1901/5000], Loss: 4.2779\n",
            "Epoch [1951/5000], Loss: 2.2828\n",
            "Epoch [2001/5000], Loss: 2.6460\n",
            "Epoch [2051/5000], Loss: 2.5025\n",
            "Epoch [2101/5000], Loss: 2.0039\n",
            "Epoch [2151/5000], Loss: 2.3226\n",
            "Epoch [2201/5000], Loss: 2.2887\n",
            "Epoch [2251/5000], Loss: 2.2206\n",
            "Epoch [2301/5000], Loss: 1.9233\n",
            "Epoch [2351/5000], Loss: 2.6691\n",
            "Epoch [2401/5000], Loss: 2.1553\n",
            "Epoch [2451/5000], Loss: 2.0955\n",
            "Epoch [2501/5000], Loss: 3.9083\n",
            "Epoch [2551/5000], Loss: 2.9872\n",
            "Epoch [2601/5000], Loss: 2.7423\n",
            "Epoch [2651/5000], Loss: 4.3323\n",
            "Epoch [2701/5000], Loss: 2.7596\n",
            "Epoch [2751/5000], Loss: 1.7543\n",
            "Epoch [2801/5000], Loss: 2.4181\n",
            "Epoch [2851/5000], Loss: 1.9444\n",
            "Epoch [2901/5000], Loss: 1.6844\n",
            "Epoch [2951/5000], Loss: 1.8317\n",
            "Epoch [3001/5000], Loss: 1.4005\n",
            "Epoch [3051/5000], Loss: 1.3968\n",
            "Epoch [3101/5000], Loss: 1.9335\n",
            "Epoch [3151/5000], Loss: 1.3008\n",
            "Epoch [3201/5000], Loss: 2.4194\n",
            "Epoch [3251/5000], Loss: 2.1640\n",
            "Epoch [3301/5000], Loss: 1.8264\n",
            "Epoch [3351/5000], Loss: 2.6558\n",
            "Epoch [3401/5000], Loss: 1.9623\n",
            "Epoch [3451/5000], Loss: 1.9064\n",
            "Epoch [3501/5000], Loss: 1.8994\n",
            "Epoch [3551/5000], Loss: 3.2833\n",
            "Epoch [3601/5000], Loss: 2.3780\n",
            "Epoch [3651/5000], Loss: 1.2056\n",
            "Epoch [3701/5000], Loss: 2.2423\n",
            "Epoch [3751/5000], Loss: 3.3306\n",
            "Epoch [3801/5000], Loss: 1.7468\n",
            "Epoch [3851/5000], Loss: 2.6926\n",
            "Epoch [3901/5000], Loss: 2.5574\n",
            "Epoch [3951/5000], Loss: 3.8918\n",
            "Epoch [4001/5000], Loss: 2.0378\n",
            "Epoch [4051/5000], Loss: 3.5312\n",
            "Epoch [4101/5000], Loss: 2.2627\n",
            "Epoch [4151/5000], Loss: 3.3546\n",
            "Epoch [4201/5000], Loss: 1.5471\n",
            "Epoch [4251/5000], Loss: 2.2027\n",
            "Epoch [4301/5000], Loss: 1.8548\n",
            "Epoch [4351/5000], Loss: 2.1799\n",
            "Epoch [4401/5000], Loss: 3.2253\n",
            "Epoch [4451/5000], Loss: 2.1103\n",
            "Epoch [4501/5000], Loss: 1.9546\n",
            "Epoch [4551/5000], Loss: 2.7094\n",
            "Epoch [4601/5000], Loss: 2.5365\n",
            "Epoch [4651/5000], Loss: 2.2319\n",
            "Epoch [4701/5000], Loss: 2.1421\n",
            "Epoch [4751/5000], Loss: 1.4917\n",
            "Epoch [4801/5000], Loss: 1.4736\n",
            "Epoch [4851/5000], Loss: 1.7811\n",
            "Epoch [4901/5000], Loss: 1.1305\n",
            "Epoch [4951/5000], Loss: 1.4271\n",
            "Training complete\n"
          ]
        }
      ]
    },
    {
      "cell_type": "code",
      "source": [
        "outputs_test = model(X_test.float())\n",
        "for i in range(3):\n",
        "    plt.figure()\n",
        "    counter = 0\n",
        "    stack_y = []\n",
        "    stack_pred = []\n",
        "    print(f\"y_test: {y_test.shape}\")\n",
        "    while True:\n",
        "        print(f\"counter: {counter}\")\n",
        "        stack_y.append(y_test[counter,:,i])\n",
        "        # print(f\"y_test[counter,:,i]: {y_test[counter,:,i].shape}\")\n",
        "        stack_pred.append(outputs_test[counter,:,i])\n",
        "        counter += 5\n",
        "        if counter >= y_test.shape[0]:\n",
        "            break\n",
        "    print(f\"stack_y: {len(stack_y)}\")\n",
        "    print(stack_y)\n",
        "    groundtruth = torch.stack(stack_y, dim=0).flatten()\n",
        "    prediction = torch.stack(stack_pred, dim=0).flatten()\n",
        "    print(f\"groundtruth: {groundtruth.shape}\")\n",
        "    print(f\"prediction: {prediction.shape}\")\n",
        "    plt.plot(groundtruth, label='groundtruth')\n",
        "    plt.plot(prediction.detach().cpu().numpy(), label='prediction')\n",
        "    plt.legend()\n",
        "plt.show()\n",
        "\n",
        "\n"
      ],
      "metadata": {
        "colab": {
          "base_uri": "https://localhost:8080/",
          "height": 1000
        },
        "id": "h3Hb53gpSF1C",
        "outputId": "13a067f6-6b83-4f4c-8afe-9436429c3b0f"
      },
      "execution_count": null,
      "outputs": [
        {
          "output_type": "stream",
          "name": "stdout",
          "text": [
            "y_test: torch.Size([35, 5, 3])\n",
            "counter: 0\n",
            "counter: 5\n",
            "counter: 10\n",
            "counter: 15\n",
            "counter: 20\n",
            "counter: 25\n",
            "counter: 30\n",
            "stack_y: 7\n",
            "[tensor([54.9000, 73.3000, 81.6000, 78.3000, 86.7000], dtype=torch.float64), tensor([87.8000, 87.4000, 80.6000, 92.6000, 88.2000], dtype=torch.float64), tensor([94.1000, 93.8000, 84.9000, 68.6000, 76.6000], dtype=torch.float64), tensor([88.4000, 87.3000, 83.1000, 86.0000, 83.7000], dtype=torch.float64), tensor([87.3000, 83.6000, 67.9000, 73.9000, 78.1000], dtype=torch.float64), tensor([84.4000, 85.9000, 85.0000, 77.3000, 72.3000], dtype=torch.float64), tensor([74.8000, 69.9000, 88.9000, 87.6000, 80.8000], dtype=torch.float64)]\n",
            "groundtruth: torch.Size([35])\n",
            "prediction: torch.Size([35])\n",
            "y_test: torch.Size([35, 5, 3])\n",
            "counter: 0\n",
            "counter: 5\n",
            "counter: 10\n",
            "counter: 15\n",
            "counter: 20\n",
            "counter: 25\n",
            "counter: 30\n",
            "stack_y: 7\n",
            "[tensor([82.2000, 75.9000, 73.6000, 71.6000, 72.9000], dtype=torch.float64), tensor([71.5000, 70.6000, 69.8000, 64.9000, 66.7000], dtype=torch.float64), tensor([58.2000, 56.7000, 58.3000, 61.0000, 58.3000], dtype=torch.float64), tensor([56.9000, 56.3000, 54.2000, 54.2000, 56.0000], dtype=torch.float64), tensor([67.6000, 63.9000, 63.6000, 59.9000, 63.8000], dtype=torch.float64), tensor([72.8000, 71.5000, 70.2000, 72.7000, 71.8000], dtype=torch.float64), tensor([65.9000, 66.8000, 68.1000, 66.0000, 63.3000], dtype=torch.float64)]\n",
            "groundtruth: torch.Size([35])\n",
            "prediction: torch.Size([35])\n",
            "y_test: torch.Size([35, 5, 3])\n",
            "counter: 0\n",
            "counter: 5\n",
            "counter: 10\n",
            "counter: 15\n",
            "counter: 20\n",
            "counter: 25\n",
            "counter: 30\n",
            "stack_y: 7\n",
            "[tensor([0., 0., 0., 0., 0.], dtype=torch.float64), tensor([0.0000, 0.0000, 0.0000, 0.1540, 0.0000], dtype=torch.float64), tensor([0.0000, 0.0040, 0.0080, 0.0000, 0.0000], dtype=torch.float64), tensor([0.0080, 0.1300, 0.1180, 0.0040, 0.0040], dtype=torch.float64), tensor([0., 0., 0., 0., 0.], dtype=torch.float64), tensor([0., 0., 0., 0., 0.], dtype=torch.float64), tensor([0.0040, 0.0000, 0.0000, 0.0000, 0.0120], dtype=torch.float64)]\n",
            "groundtruth: torch.Size([35])\n",
            "prediction: torch.Size([35])\n"
          ]
        },
        {
          "output_type": "display_data",
          "data": {
            "text/plain": [
              "<Figure size 640x480 with 1 Axes>"
            ],
            "image/png": "[encoded data removed]"
          },
          "metadata": {}
        },
        {
          "output_type": "display_data",
          "data": {
            "text/plain": [
              "<Figure size 640x480 with 1 Axes>"
            ],
            "image/png": "[encoded data removed]"
          },
          "metadata": {}
        },
        {
          "output_type": "display_data",
          "data": {
            "text/plain": [
              "<Figure size 640x480 with 1 Axes>"
            ],
            "image/png": "[encoded data removed]"
          },
          "metadata": {}
        }
      ]
    },
    {
      "cell_type": "code",
      "source": [
        "y_test.shape"
      ],
      "metadata": {
        "colab": {
          "base_uri": "https://localhost:8080/"
        },
        "id": "pcOBPWAIToDQ",
        "outputId": "baa1adb2-684a-443e-b5ea-45560e436284"
      },
      "execution_count": null,
      "outputs": [
        {
          "output_type": "execute_result",
          "data": {
            "text/plain": [
              "torch.Size([10, 5, 3])"
            ]
          },
          "metadata": {},
          "execution_count": 292
        }
      ]
    },
    {
      "cell_type": "code",
      "source": [
        "0.2*len(data)"
      ],
      "metadata": {
        "colab": {
          "base_uri": "https://localhost:8080/"
        },
        "id": "2Mu9-xfrZn8_",
        "outputId": "37a0818e-2222-4c9d-9a0e-399b469396b1"
      },
      "execution_count": null,
      "outputs": [
        {
          "output_type": "execute_result",
          "data": {
            "text/plain": [
              "146.0"
            ]
          },
          "metadata": {},
          "execution_count": 293
        }
      ]
    },
    {
      "cell_type": "code",
      "source": [
        "146//5"
      ],
      "metadata": {
        "colab": {
          "base_uri": "https://localhost:8080/"
        },
        "id": "rHt2NAJLZyKj",
        "outputId": "e8650aa3-1fc4-4954-aaca-cdf496e7e75c"
      },
      "execution_count": null,
      "outputs": [
        {
          "output_type": "execute_result",
          "data": {
            "text/plain": [
              "29"
            ]
          },
          "metadata": {},
          "execution_count": 295
        }
      ]
    },
    {
      "cell_type": "code",
      "source": [],
      "metadata": {
        "id": "s1PupjL4Z2oR"
      },
      "execution_count": null,
      "outputs": []
    }
  ]
}