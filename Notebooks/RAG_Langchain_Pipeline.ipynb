{
 "cells": [
  {
   "cell_type": "markdown",
   "id": "003879e8-4019-4dc7-b0bf-18da863ef102",
   "metadata": {
    "tags": []
   },
   "source": [
    "## Library installation"
   ]
  },
  {
   "cell_type": "code",
   "execution_count": 1,
   "id": "3dd5ccf1-6e3c-46b7-95ec-ea5a22de024c",
   "metadata": {
    "tags": []
   },
   "outputs": [
    {
     "name": "stdout",
     "output_type": "stream",
     "text": [
      "Collecting transformers\n",
      "  Downloading transformers-4.41.0-py3-none-any.whl (9.1 MB)\n",
      "\u001b[K     |████████████████████████████████| 9.1 MB 4.0 MB/s eta 0:00:01\n",
      "\u001b[?25hCollecting sentence-transformers\n",
      "  Downloading sentence_transformers-2.7.0-py3-none-any.whl (171 kB)\n",
      "\u001b[K     |████████████████████████████████| 171 kB 135.1 MB/s eta 0:00:01\n",
      "\u001b[?25hCollecting langchain\n",
      "  Downloading langchain-0.2.0-py3-none-any.whl (973 kB)\n",
      "\u001b[K     |████████████████████████████████| 973 kB 119.1 MB/s eta 0:00:01\n",
      "\u001b[?25hCollecting torch\n",
      "  Downloading torch-2.3.0-cp39-cp39-manylinux1_x86_64.whl (779.1 MB)\n",
      "\u001b[K     |████████████▊                   | 310.7 MB 172.8 MB/s eta 0:00:03"
     ]
    },
    {
     "name": "stderr",
     "output_type": "stream",
     "text": [
      "IOPub data rate exceeded.\n",
      "The Jupyter server will temporarily stop sending output\n",
      "to the client in order to avoid crashing it.\n",
      "To change this limit, set the config variable\n",
      "`--ServerApp.iopub_data_rate_limit`.\n",
      "\n",
      "Current values:\n",
      "ServerApp.iopub_data_rate_limit=1000000.0 (bytes/sec)\n",
      "ServerApp.rate_limit_window=3.0 (secs)\n",
      "\n"
     ]
    },
    {
     "name": "stdout",
     "output_type": "stream",
     "text": [
      "\u001b[K     |███████████████████████████████▌| 768.3 MB 174.2 MB/s eta 0:00:01"
     ]
    },
    {
     "name": "stderr",
     "output_type": "stream",
     "text": [
      "IOPub data rate exceeded.\n",
      "The Jupyter server will temporarily stop sending output\n",
      "to the client in order to avoid crashing it.\n",
      "To change this limit, set the config variable\n",
      "`--ServerApp.iopub_data_rate_limit`.\n",
      "\n",
      "Current values:\n",
      "ServerApp.iopub_data_rate_limit=1000000.0 (bytes/sec)\n",
      "ServerApp.rate_limit_window=3.0 (secs)\n",
      "\n"
     ]
    },
    {
     "name": "stdout",
     "output_type": "stream",
     "text": [
      "Collecting faiss-cpu\n",
      "  Downloading faiss_cpu-1.8.0-cp39-cp39-manylinux_2_17_x86_64.manylinux2014_x86_64.whl (27.0 MB)\n",
      "\u001b[K     |████████████████████████████████| 27.0 MB 145.8 MB/s eta 0:00:01\n",
      "\u001b[?25hCollecting numpy\n",
      "  Downloading numpy-1.26.4-cp39-cp39-manylinux_2_17_x86_64.manylinux2014_x86_64.whl (18.2 MB)\n",
      "\u001b[K     |████████████████████████████████| 18.2 MB 133.4 MB/s eta 0:00:01\n",
      "\u001b[?25hCollecting filelock\n",
      "  Downloading filelock-3.14.0-py3-none-any.whl (12 kB)\n",
      "Collecting safetensors>=0.4.1\n",
      "  Downloading safetensors-0.4.3-cp39-cp39-manylinux_2_17_x86_64.manylinux2014_x86_64.whl (1.2 MB)\n",
      "\u001b[K     |████████████████████████████████| 1.2 MB 133.7 MB/s eta 0:00:01\n",
      "\u001b[?25hRequirement already satisfied: requests in /home/user/miniconda/lib/python3.9/site-packages (from transformers) (2.31.0)\n",
      "Requirement already satisfied: tqdm>=4.27 in /home/user/miniconda/lib/python3.9/site-packages (from transformers) (4.61.2)\n",
      "Requirement already satisfied: pyyaml>=5.1 in /home/user/miniconda/lib/python3.9/site-packages (from transformers) (6.0.1)\n",
      "Collecting huggingface-hub<1.0,>=0.23.0\n",
      "  Downloading huggingface_hub-0.23.0-py3-none-any.whl (401 kB)\n",
      "\u001b[K     |████████████████████████████████| 401 kB 130.5 MB/s eta 0:00:01\n",
      "\u001b[?25hCollecting regex!=2019.12.17\n",
      "  Downloading regex-2024.5.15-cp39-cp39-manylinux_2_17_x86_64.manylinux2014_x86_64.whl (774 kB)\n",
      "\u001b[K     |████████████████████████████████| 774 kB 130.3 MB/s eta 0:00:01\n",
      "\u001b[?25hCollecting tokenizers<0.20,>=0.19\n",
      "  Downloading tokenizers-0.19.1-cp39-cp39-manylinux_2_17_x86_64.manylinux2014_x86_64.whl (3.6 MB)\n",
      "\u001b[K     |████████████████████████████████| 3.6 MB 126.4 MB/s eta 0:00:01\n",
      "\u001b[?25hRequirement already satisfied: packaging>=20.0 in /home/user/miniconda/lib/python3.9/site-packages (from transformers) (24.0)\n",
      "Requirement already satisfied: typing-extensions>=3.7.4.3 in /home/user/miniconda/lib/python3.9/site-packages (from huggingface-hub<1.0,>=0.23.0->transformers) (4.11.0)\n",
      "Collecting fsspec>=2023.5.0\n",
      "  Downloading fsspec-2024.5.0-py3-none-any.whl (316 kB)\n",
      "\u001b[K     |████████████████████████████████| 316 kB 125.2 MB/s eta 0:00:01\n",
      "\u001b[?25hCollecting Pillow\n",
      "  Downloading pillow-10.3.0-cp39-cp39-manylinux_2_28_x86_64.whl (4.5 MB)\n",
      "\u001b[K     |████████████████████████████████| 4.5 MB 125.0 MB/s eta 0:00:01\n",
      "\u001b[?25hCollecting scipy\n",
      "  Downloading scipy-1.13.0-cp39-cp39-manylinux_2_17_x86_64.manylinux2014_x86_64.whl (38.6 MB)\n",
      "\u001b[K     |████████████████████████████████| 38.6 MB 127.7 MB/s eta 0:00:01\n",
      "\u001b[?25hCollecting scikit-learn\n",
      "  Downloading scikit_learn-1.4.2-cp39-cp39-manylinux_2_17_x86_64.manylinux2014_x86_64.whl (12.2 MB)\n",
      "\u001b[K     |████████████████████████████████| 12.2 MB 130.8 MB/s eta 0:00:01\n",
      "\u001b[?25hCollecting networkx\n",
      "  Downloading networkx-3.2.1-py3-none-any.whl (1.6 MB)\n",
      "\u001b[K     |████████████████████████████████| 1.6 MB 111.6 MB/s eta 0:00:01\n",
      "\u001b[?25hCollecting nvidia-cuda-cupti-cu12==12.1.105\n",
      "  Downloading nvidia_cuda_cupti_cu12-12.1.105-py3-none-manylinux1_x86_64.whl (14.1 MB)\n",
      "\u001b[K     |████████████████████████████████| 14.1 MB 133.5 MB/s eta 0:00:01\n",
      "\u001b[?25hCollecting nvidia-cusparse-cu12==12.1.0.106\n",
      "  Downloading nvidia_cusparse_cu12-12.1.0.106-py3-none-manylinux1_x86_64.whl (196.0 MB)\n",
      "\u001b[K     |████████████████████████████████| 196.0 MB 142.1 MB/s eta 0:00:01\n",
      "\u001b[?25hCollecting nvidia-curand-cu12==10.3.2.106\n",
      "  Downloading nvidia_curand_cu12-10.3.2.106-py3-none-manylinux1_x86_64.whl (56.5 MB)\n",
      "\u001b[K     |████████████████████████████████| 56.5 MB 99.3 MB/s eta 0:00:01\n",
      "\u001b[?25hCollecting nvidia-nvtx-cu12==12.1.105\n",
      "  Downloading nvidia_nvtx_cu12-12.1.105-py3-none-manylinux1_x86_64.whl (99 kB)\n",
      "\u001b[K     |████████████████████████████████| 99 kB 44.3 MB/s  eta 0:00:01\n",
      "\u001b[?25hCollecting nvidia-cusolver-cu12==11.4.5.107\n",
      "  Downloading nvidia_cusolver_cu12-11.4.5.107-py3-none-manylinux1_x86_64.whl (124.2 MB)\n",
      "\u001b[K     |████████████████████████████████| 124.2 MB 55.7 MB/s eta 0:00:011\n",
      "\u001b[?25hCollecting nvidia-cublas-cu12==12.1.3.1\n",
      "  Downloading nvidia_cublas_cu12-12.1.3.1-py3-none-manylinux1_x86_64.whl (410.6 MB)\n",
      "\u001b[K     |████████████████████████████████| 410.6 MB 45.7 MB/s eta 0:00:01\n",
      "\u001b[?25hRequirement already satisfied: jinja2 in /home/user/miniconda/lib/python3.9/site-packages (from torch) (3.1.4)\n",
      "\u001b[33mWARNING: Retrying (Retry(total=4, connect=None, read=None, redirect=None, status=None)) after connection broken by 'ProtocolError('Connection aborted.', ConnectionResetError(104, 'Connection reset by peer'))': /simple/sympy/\u001b[0m\n",
      "Collecting sympy\n",
      "  Downloading sympy-1.12-py3-none-any.whl (5.7 MB)\n",
      "\u001b[K     |████████████████████████████████| 5.7 MB 113.6 MB/s eta 0:00:01\n",
      "\u001b[?25hCollecting nvidia-cuda-runtime-cu12==12.1.105\n",
      "  Downloading nvidia_cuda_runtime_cu12-12.1.105-py3-none-manylinux1_x86_64.whl (823 kB)\n",
      "\u001b[K     |████████████████████████████████| 823 kB 119.5 MB/s eta 0:00:01\n",
      "\u001b[?25hCollecting nvidia-cudnn-cu12==8.9.2.26\n",
      "  Downloading nvidia_cudnn_cu12-8.9.2.26-py3-none-manylinux1_x86_64.whl (731.7 MB)\n",
      "\u001b[K     |████████████████████████████████| 731.7 MB 39 kB/s /s eta 0:00:01\n",
      "\u001b[?25hCollecting nvidia-nccl-cu12==2.20.5\n",
      "  Downloading nvidia_nccl_cu12-2.20.5-py3-none-manylinux2014_x86_64.whl (176.2 MB)\n",
      "\u001b[K     |████████████████████████████████| 176.2 MB 225 kB/s  eta 0:00:01\n",
      "\u001b[?25hCollecting triton==2.3.0\n",
      "  Downloading triton-2.3.0-cp39-cp39-manylinux_2_17_x86_64.manylinux2014_x86_64.whl (168.1 MB)\n",
      "\u001b[K     |████████████████████████████████| 168.1 MB 67 kB/s s eta 0:00:01\n",
      "\u001b[?25hCollecting nvidia-cuda-nvrtc-cu12==12.1.105\n",
      "  Downloading nvidia_cuda_nvrtc_cu12-12.1.105-py3-none-manylinux1_x86_64.whl (23.7 MB)\n",
      "\u001b[K     |████████████████████████████████| 23.7 MB 8.0 MB/s eta 0:00:011\n",
      "\u001b[?25hCollecting nvidia-cufft-cu12==11.0.2.54\n",
      "  Downloading nvidia_cufft_cu12-11.0.2.54-py3-none-manylinux1_x86_64.whl (121.6 MB)\n",
      "\u001b[K     |████████████████████████████████| 121.6 MB 169 kB/s  eta 0:00:01\n",
      "\u001b[?25hCollecting nvidia-nvjitlink-cu12\n",
      "  Downloading nvidia_nvjitlink_cu12-12.4.127-py3-none-manylinux2014_x86_64.whl (21.1 MB)\n",
      "\u001b[K     |████████████████████████████████| 21.1 MB 55.4 MB/s eta 0:00:01\n",
      "\u001b[?25hCollecting dataclasses-json<0.7,>=0.5.7\n",
      "  Downloading dataclasses_json-0.6.6-py3-none-any.whl (28 kB)\n",
      "Collecting langchain-core<0.3.0,>=0.2.0\n",
      "  Downloading langchain_core-0.2.0-py3-none-any.whl (307 kB)\n",
      "\u001b[K     |████████████████████████████████| 307 kB 104.0 MB/s eta 0:00:01\n",
      "\u001b[?25hCollecting langchain-text-splitters<0.3.0,>=0.2.0\n",
      "  Downloading langchain_text_splitters-0.2.0-py3-none-any.whl (23 kB)\n",
      "Collecting SQLAlchemy<3,>=1.4\n",
      "  Downloading SQLAlchemy-2.0.30-cp39-cp39-manylinux_2_17_x86_64.manylinux2014_x86_64.whl (3.1 MB)\n",
      "\u001b[K     |████████████████████████████████| 3.1 MB 68.6 MB/s eta 0:00:01\n",
      "\u001b[?25hCollecting tenacity<9.0.0,>=8.1.0\n",
      "  Downloading tenacity-8.3.0-py3-none-any.whl (25 kB)\n",
      "Collecting async-timeout<5.0.0,>=4.0.0\n",
      "  Downloading async_timeout-4.0.3-py3-none-any.whl (5.7 kB)\n",
      "Collecting aiohttp<4.0.0,>=3.8.3\n",
      "  Downloading aiohttp-3.9.5-cp39-cp39-manylinux_2_17_x86_64.manylinux2014_x86_64.whl (1.2 MB)\n",
      "\u001b[K     |████████████████████████████████| 1.2 MB 102.3 MB/s eta 0:00:01\n",
      "\u001b[?25hCollecting langsmith<0.2.0,>=0.1.17\n",
      "  Downloading langsmith-0.1.59-py3-none-any.whl (121 kB)\n",
      "\u001b[K     |████████████████████████████████| 121 kB 65.9 MB/s eta 0:00:01\n",
      "\u001b[?25hCollecting pydantic<3,>=1\n",
      "  Downloading pydantic-2.7.1-py3-none-any.whl (409 kB)\n",
      "\u001b[K     |████████████████████████████████| 409 kB 73.3 MB/s eta 0:00:01\n",
      "\u001b[?25hCollecting yarl<2.0,>=1.0\n",
      "  Downloading yarl-1.9.4-cp39-cp39-manylinux_2_17_x86_64.manylinux2014_x86_64.whl (304 kB)\n",
      "\u001b[K     |████████████████████████████████| 304 kB 67.9 MB/s eta 0:00:01\n",
      "\u001b[?25hCollecting aiosignal>=1.1.2\n",
      "  Downloading aiosignal-1.3.1-py3-none-any.whl (7.6 kB)\n",
      "Requirement already satisfied: attrs>=17.3.0 in /home/user/miniconda/lib/python3.9/site-packages (from aiohttp<4.0.0,>=3.8.3->langchain) (23.2.0)\n",
      "Collecting multidict<7.0,>=4.5\n",
      "  Downloading multidict-6.0.5-cp39-cp39-manylinux_2_17_x86_64.manylinux2014_x86_64.whl (123 kB)\n",
      "\u001b[K     |████████████████████████████████| 123 kB 72.5 MB/s eta 0:00:01\n",
      "\u001b[?25hCollecting frozenlist>=1.1.1\n",
      "  Downloading frozenlist-1.4.1-cp39-cp39-manylinux_2_5_x86_64.manylinux1_x86_64.manylinux_2_17_x86_64.manylinux2014_x86_64.whl (240 kB)\n",
      "\u001b[K     |████████████████████████████████| 240 kB 73.5 MB/s eta 0:00:01\n",
      "\u001b[?25hCollecting marshmallow<4.0.0,>=3.18.0\n",
      "  Downloading marshmallow-3.21.2-py3-none-any.whl (49 kB)\n",
      "\u001b[K     |████████████████████████████████| 49 kB 29.5 MB/s eta 0:00:01\n",
      "\u001b[?25hCollecting typing-inspect<1,>=0.4.0\n",
      "  Downloading typing_inspect-0.9.0-py3-none-any.whl (8.8 kB)\n",
      "Collecting packaging>=20.0\n",
      "  Downloading packaging-23.2-py3-none-any.whl (53 kB)\n",
      "\u001b[K     |████████████████████████████████| 53 kB 8.9 MB/s  eta 0:00:01\n",
      "\u001b[?25hCollecting jsonpatch<2.0,>=1.33\n",
      "  Downloading jsonpatch-1.33-py2.py3-none-any.whl (12 kB)\n",
      "Requirement already satisfied: jsonpointer>=1.9 in /home/user/miniconda/lib/python3.9/site-packages (from jsonpatch<2.0,>=1.33->langchain-core<0.3.0,>=0.2.0->langchain) (2.4)\n",
      "Collecting orjson<4.0.0,>=3.9.14\n",
      "  Downloading orjson-3.10.3-cp39-cp39-manylinux_2_17_x86_64.manylinux2014_x86_64.whl (142 kB)\n",
      "\u001b[K     |████████████████████████████████| 142 kB 105.4 MB/s eta 0:00:01\n",
      "\u001b[?25hCollecting annotated-types>=0.4.0\n",
      "  Downloading annotated_types-0.6.0-py3-none-any.whl (12 kB)\n",
      "Collecting pydantic-core==2.18.2\n",
      "  Downloading pydantic_core-2.18.2-cp39-cp39-manylinux_2_17_x86_64.manylinux2014_x86_64.whl (2.1 MB)\n",
      "\u001b[K     |████████████████████████████████| 2.1 MB 72.6 MB/s eta 0:00:01\n",
      "\u001b[?25hRequirement already satisfied: certifi>=2017.4.17 in /home/user/miniconda/lib/python3.9/site-packages (from requests->transformers) (2021.5.30)\n",
      "Requirement already satisfied: charset-normalizer<4,>=2 in /home/user/miniconda/lib/python3.9/site-packages (from requests->transformers) (3.3.2)\n",
      "Requirement already satisfied: urllib3<3,>=1.21.1 in /home/user/miniconda/lib/python3.9/site-packages (from requests->transformers) (1.26.6)\n",
      "Requirement already satisfied: idna<4,>=2.5 in /home/user/miniconda/lib/python3.9/site-packages (from requests->transformers) (2.10)\n",
      "Collecting greenlet!=0.4.17\n",
      "  Downloading greenlet-3.0.3-cp39-cp39-manylinux_2_24_x86_64.manylinux_2_28_x86_64.whl (614 kB)\n",
      "\u001b[K     |████████████████████████████████| 614 kB 66.8 MB/s eta 0:00:01\n",
      "\u001b[?25hCollecting mypy-extensions>=0.3.0\n",
      "  Downloading mypy_extensions-1.0.0-py3-none-any.whl (4.7 kB)\n",
      "Requirement already satisfied: MarkupSafe>=2.0 in /home/user/miniconda/lib/python3.9/site-packages (from jinja2->torch) (2.1.5)\n",
      "Collecting joblib>=1.2.0\n",
      "  Downloading joblib-1.4.2-py3-none-any.whl (301 kB)\n",
      "\u001b[K     |████████████████████████████████| 301 kB 68.9 MB/s eta 0:00:01\n",
      "\u001b[?25hCollecting threadpoolctl>=2.0.0\n",
      "  Downloading threadpoolctl-3.5.0-py3-none-any.whl (18 kB)\n",
      "Collecting mpmath>=0.19\n",
      "  Downloading mpmath-1.3.0-py3-none-any.whl (536 kB)\n",
      "\u001b[K     |████████████████████████████████| 536 kB 65.9 MB/s eta 0:00:01\n",
      "\u001b[?25hInstalling collected packages: pydantic-core, annotated-types, pydantic, packaging, orjson, nvidia-nvjitlink-cu12, fsspec, filelock, tenacity, nvidia-cusparse-cu12, nvidia-cublas-cu12, numpy, mypy-extensions, multidict, mpmath, langsmith, jsonpatch, huggingface-hub, frozenlist, yarl, typing-inspect, triton, tokenizers, threadpoolctl, sympy, scipy, safetensors, regex, nvidia-nvtx-cu12, nvidia-nccl-cu12, nvidia-cusolver-cu12, nvidia-curand-cu12, nvidia-cufft-cu12, nvidia-cudnn-cu12, nvidia-cuda-runtime-cu12, nvidia-cuda-nvrtc-cu12, nvidia-cuda-cupti-cu12, networkx, marshmallow, langchain-core, joblib, greenlet, async-timeout, aiosignal, transformers, torch, SQLAlchemy, scikit-learn, Pillow, langchain-text-splitters, dataclasses-json, aiohttp, sentence-transformers, langchain, faiss-cpu\n",
      "  Attempting uninstall: packaging\n",
      "    Found existing installation: packaging 24.0\n",
      "    Uninstalling packaging-24.0:\n",
      "      Successfully uninstalled packaging-24.0\n",
      "Successfully installed Pillow-10.3.0 SQLAlchemy-2.0.30 aiohttp-3.9.5 aiosignal-1.3.1 annotated-types-0.6.0 async-timeout-4.0.3 dataclasses-json-0.6.6 faiss-cpu-1.8.0 filelock-3.14.0 frozenlist-1.4.1 fsspec-2024.5.0 greenlet-3.0.3 huggingface-hub-0.23.0 joblib-1.4.2 jsonpatch-1.33 langchain-0.2.0 langchain-core-0.2.0 langchain-text-splitters-0.2.0 langsmith-0.1.59 marshmallow-3.21.2 mpmath-1.3.0 multidict-6.0.5 mypy-extensions-1.0.0 networkx-3.2.1 numpy-1.26.4 nvidia-cublas-cu12-12.1.3.1 nvidia-cuda-cupti-cu12-12.1.105 nvidia-cuda-nvrtc-cu12-12.1.105 nvidia-cuda-runtime-cu12-12.1.105 nvidia-cudnn-cu12-8.9.2.26 nvidia-cufft-cu12-11.0.2.54 nvidia-curand-cu12-10.3.2.106 nvidia-cusolver-cu12-11.4.5.107 nvidia-cusparse-cu12-12.1.0.106 nvidia-nccl-cu12-2.20.5 nvidia-nvjitlink-cu12-12.4.127 nvidia-nvtx-cu12-12.1.105 orjson-3.10.3 packaging-23.2 pydantic-2.7.1 pydantic-core-2.18.2 regex-2024.5.15 safetensors-0.4.3 scikit-learn-1.4.2 scipy-1.13.0 sentence-transformers-2.7.0 sympy-1.12 tenacity-8.3.0 threadpoolctl-3.5.0 tokenizers-0.19.1 torch-2.3.0 transformers-4.41.0 triton-2.3.0 typing-inspect-0.9.0 yarl-1.9.4\n",
      "Collecting langchain_community\n",
      "  Downloading langchain_community-0.2.0-py3-none-any.whl (2.1 MB)\n",
      "\u001b[K     |████████████████████████████████| 2.1 MB 4.2 MB/s eta 0:00:01\n",
      "\u001b[?25hRequirement already satisfied: langsmith<0.2.0,>=0.1.0 in /home/user/miniconda/lib/python3.9/site-packages (from langchain_community) (0.1.59)\n",
      "Requirement already satisfied: langchain-core<0.3.0,>=0.2.0 in /home/user/miniconda/lib/python3.9/site-packages (from langchain_community) (0.2.0)\n",
      "Requirement already satisfied: langchain<0.3.0,>=0.2.0 in /home/user/miniconda/lib/python3.9/site-packages (from langchain_community) (0.2.0)\n",
      "Requirement already satisfied: aiohttp<4.0.0,>=3.8.3 in /home/user/miniconda/lib/python3.9/site-packages (from langchain_community) (3.9.5)\n",
      "Requirement already satisfied: numpy<2,>=1 in /home/user/miniconda/lib/python3.9/site-packages (from langchain_community) (1.26.4)\n",
      "Requirement already satisfied: PyYAML>=5.3 in /home/user/miniconda/lib/python3.9/site-packages (from langchain_community) (6.0.1)\n",
      "Requirement already satisfied: SQLAlchemy<3,>=1.4 in /home/user/miniconda/lib/python3.9/site-packages (from langchain_community) (2.0.30)\n",
      "Requirement already satisfied: tenacity<9.0.0,>=8.1.0 in /home/user/miniconda/lib/python3.9/site-packages (from langchain_community) (8.3.0)\n",
      "Requirement already satisfied: requests<3,>=2 in /home/user/miniconda/lib/python3.9/site-packages (from langchain_community) (2.31.0)\n",
      "Requirement already satisfied: dataclasses-json<0.7,>=0.5.7 in /home/user/miniconda/lib/python3.9/site-packages (from langchain_community) (0.6.6)\n",
      "Requirement already satisfied: aiosignal>=1.1.2 in /home/user/miniconda/lib/python3.9/site-packages (from aiohttp<4.0.0,>=3.8.3->langchain_community) (1.3.1)\n",
      "Requirement already satisfied: yarl<2.0,>=1.0 in /home/user/miniconda/lib/python3.9/site-packages (from aiohttp<4.0.0,>=3.8.3->langchain_community) (1.9.4)\n",
      "Requirement already satisfied: async-timeout<5.0,>=4.0 in /home/user/miniconda/lib/python3.9/site-packages (from aiohttp<4.0.0,>=3.8.3->langchain_community) (4.0.3)\n",
      "Requirement already satisfied: frozenlist>=1.1.1 in /home/user/miniconda/lib/python3.9/site-packages (from aiohttp<4.0.0,>=3.8.3->langchain_community) (1.4.1)\n",
      "Requirement already satisfied: attrs>=17.3.0 in /home/user/miniconda/lib/python3.9/site-packages (from aiohttp<4.0.0,>=3.8.3->langchain_community) (23.2.0)\n",
      "Requirement already satisfied: multidict<7.0,>=4.5 in /home/user/miniconda/lib/python3.9/site-packages (from aiohttp<4.0.0,>=3.8.3->langchain_community) (6.0.5)\n",
      "Requirement already satisfied: typing-inspect<1,>=0.4.0 in /home/user/miniconda/lib/python3.9/site-packages (from dataclasses-json<0.7,>=0.5.7->langchain_community) (0.9.0)\n",
      "Requirement already satisfied: marshmallow<4.0.0,>=3.18.0 in /home/user/miniconda/lib/python3.9/site-packages (from dataclasses-json<0.7,>=0.5.7->langchain_community) (3.21.2)\n",
      "Requirement already satisfied: pydantic<3,>=1 in /home/user/miniconda/lib/python3.9/site-packages (from langchain<0.3.0,>=0.2.0->langchain_community) (2.7.1)\n",
      "Requirement already satisfied: langchain-text-splitters<0.3.0,>=0.2.0 in /home/user/miniconda/lib/python3.9/site-packages (from langchain<0.3.0,>=0.2.0->langchain_community) (0.2.0)\n",
      "Requirement already satisfied: packaging<24.0,>=23.2 in /home/user/miniconda/lib/python3.9/site-packages (from langchain-core<0.3.0,>=0.2.0->langchain_community) (23.2)\n",
      "Requirement already satisfied: jsonpatch<2.0,>=1.33 in /home/user/miniconda/lib/python3.9/site-packages (from langchain-core<0.3.0,>=0.2.0->langchain_community) (1.33)\n",
      "Requirement already satisfied: jsonpointer>=1.9 in /home/user/miniconda/lib/python3.9/site-packages (from jsonpatch<2.0,>=1.33->langchain-core<0.3.0,>=0.2.0->langchain_community) (2.4)\n",
      "Requirement already satisfied: orjson<4.0.0,>=3.9.14 in /home/user/miniconda/lib/python3.9/site-packages (from langsmith<0.2.0,>=0.1.0->langchain_community) (3.10.3)\n",
      "Requirement already satisfied: typing-extensions>=4.6.1 in /home/user/miniconda/lib/python3.9/site-packages (from pydantic<3,>=1->langchain<0.3.0,>=0.2.0->langchain_community) (4.11.0)\n",
      "Requirement already satisfied: pydantic-core==2.18.2 in /home/user/miniconda/lib/python3.9/site-packages (from pydantic<3,>=1->langchain<0.3.0,>=0.2.0->langchain_community) (2.18.2)\n",
      "Requirement already satisfied: annotated-types>=0.4.0 in /home/user/miniconda/lib/python3.9/site-packages (from pydantic<3,>=1->langchain<0.3.0,>=0.2.0->langchain_community) (0.6.0)\n",
      "Requirement already satisfied: charset-normalizer<4,>=2 in /home/user/miniconda/lib/python3.9/site-packages (from requests<3,>=2->langchain_community) (3.3.2)\n",
      "Requirement already satisfied: urllib3<3,>=1.21.1 in /home/user/miniconda/lib/python3.9/site-packages (from requests<3,>=2->langchain_community) (1.26.6)\n",
      "Requirement already satisfied: certifi>=2017.4.17 in /home/user/miniconda/lib/python3.9/site-packages (from requests<3,>=2->langchain_community) (2021.5.30)\n",
      "Requirement already satisfied: idna<4,>=2.5 in /home/user/miniconda/lib/python3.9/site-packages (from requests<3,>=2->langchain_community) (2.10)\n",
      "Requirement already satisfied: greenlet!=0.4.17 in /home/user/miniconda/lib/python3.9/site-packages (from SQLAlchemy<3,>=1.4->langchain_community) (3.0.3)\n",
      "Requirement already satisfied: mypy-extensions>=0.3.0 in /home/user/miniconda/lib/python3.9/site-packages (from typing-inspect<1,>=0.4.0->dataclasses-json<0.7,>=0.5.7->langchain_community) (1.0.0)\n",
      "Installing collected packages: langchain-community\n",
      "Successfully installed langchain-community-0.2.0\n",
      "Collecting pypdf\n",
      "  Downloading pypdf-4.2.0-py3-none-any.whl (290 kB)\n",
      "\u001b[K     |████████████████████████████████| 290 kB 4.5 MB/s eta 0:00:01\n",
      "\u001b[?25hRequirement already satisfied: typing_extensions>=4.0 in /home/user/miniconda/lib/python3.9/site-packages (from pypdf) (4.11.0)\n",
      "Installing collected packages: pypdf\n",
      "Successfully installed pypdf-4.2.0\n"
     ]
    }
   ],
   "source": [
    "!pip install transformers sentence-transformers langchain torch faiss-cpu numpy\n",
    "!pip install langchain_community\n",
    "!pip install pypdf"
   ]
  },
  {
   "cell_type": "markdown",
   "id": "8dfffdae-ad6f-4bbb-a3fa-45e47151b192",
   "metadata": {},
   "source": [
    "## Library configuration"
   ]
  },
  {
   "cell_type": "code",
   "execution_count": 2,
   "id": "2c2fcf30-5198-4ce0-9629-55b183ec9bb3",
   "metadata": {
    "tags": []
   },
   "outputs": [],
   "source": [
    "import os\n",
    "from urllib.request import urlretrieve\n",
    "import numpy as np\n",
    "from langchain_community.embeddings import HuggingFaceBgeEmbeddings\n",
    "from langchain_community.llms import HuggingFacePipeline\n",
    "from langchain_community.document_loaders import PyPDFLoader\n",
    "from langchain_community.document_loaders import PyPDFDirectoryLoader\n",
    "from langchain.text_splitter import RecursiveCharacterTextSplitter\n",
    "from langchain_community.vectorstores import FAISS\n",
    "from langchain.chains import RetrievalQA\n",
    "from langchain.prompts import PromptTemplate"
   ]
  },
  {
   "cell_type": "markdown",
   "id": "8bbf5ba0-6e27-4e61-b2fb-94db57a086ec",
   "metadata": {},
   "source": [
    "## Documents choice"
   ]
  },
  {
   "cell_type": "markdown",
   "id": "2830e837-97dd-48f7-9dac-1a87dce02de3",
   "metadata": {
    "tags": []
   },
   "source": [
    "## Water Footprint Network - Morocco and Netherlands\n",
    "Authored by A.Y. Hoekstra and A.K. Chapagain, this report examines the water footprints of Morocco and the Netherlands. It highlights Morocco's significant external water footprint and dependence on foreign water resources, focusing on the virtual water trade in agricultural products like oil crops, fruits, cereals, and livestock. The report emphasizes the importance of considering water resources in international trade and water sustainability.\n",
    "\n",
    "## Millennium Challenge Corporation - Irrigation Evaluation Brief\n",
    "This brief from the Millennium Challenge Corporation (MCC) evaluates the effectiveness of irrigation projects in Morocco. It typically analyzes project outcomes, focusing on agricultural productivity, water use efficiency, and environmental sustainability, and includes recommendations for future irrigation investments.\n",
    "\n",
    "## IQPC Sponsor Edition\n",
    "Without access to the content, a detailed description is unavailable. IQPC (Intelligence Quotient Property Company) usually publishes conference proceedings and industry-specific reports, summarizing presentations, discussions, and case studies to share knowledge among professionals.\n",
    "\n",
    "## HAL - Geosciences Article\n",
    "This article from Geosciences discusses water management in Morocco's Souss-Massa basin. It covers rainfall, dam infrastructure, and water usage, highlighting the imbalance between water supply and demand. The article also touches on national programs aimed at improving water management and addressing water scarcity.\n",
    "\n",
    "## World Bank - Water Scarcity in Morocco\n",
    "This World Bank report analyzes Morocco's water challenges, including scarcity, inefficient use, and climate change impacts. It likely provides an overview of water management strategies, investment needs, and policy recommendations to address these issues.\n"
   ]
  },
  {
   "cell_type": "markdown",
   "id": "e17e58ae-3263-4899-8852-20b502202760",
   "metadata": {},
   "source": [
    "## Split documents to smaller chunks"
   ]
  },
  {
   "cell_type": "code",
   "execution_count": 3,
   "id": "5e1ad5cf-33b9-4ec7-b436-fed9f5e82a31",
   "metadata": {
    "tags": []
   },
   "outputs": [
    {
     "data": {
      "text/plain": [
       "Document(page_content='MOROCCO\\nCLIMATE RISK COUNTRY PROFILE', metadata={'source': 'docs/doc.pdf', 'page': 0})"
      ]
     },
     "execution_count": 3,
     "metadata": {},
     "output_type": "execute_result"
    }
   ],
   "source": [
    "# Load pdf files in the local directory\n",
    "loader = PyPDFDirectoryLoader(\"./docs\")\n",
    "\n",
    "docs_before_split = loader.load()\n",
    "text_splitter = RecursiveCharacterTextSplitter(\n",
    "    chunk_size = 1000,\n",
    "    chunk_overlap  = 50,\n",
    ")\n",
    "docs_after_split = text_splitter.split_documents(docs_before_split)\n",
    "\n",
    "docs_after_split[0]"
   ]
  },
  {
   "cell_type": "code",
   "execution_count": 4,
   "id": "b243b3b1-88e8-447b-aba6-9ac2cb034bdf",
   "metadata": {
    "tags": []
   },
   "outputs": [
    {
     "name": "stdout",
     "output_type": "stream",
     "text": [
      "Before split, there were 205 documents loaded, with average characters equal to 2270.\n",
      "After split, there were 586 documents (chunks), with average characters equal to 797 (average chunk length).\n"
     ]
    }
   ],
   "source": [
    "avg_doc_length = lambda docs: sum([len(doc.page_content) for doc in docs])//len(docs)\n",
    "avg_char_before_split = avg_doc_length(docs_before_split)\n",
    "avg_char_after_split = avg_doc_length(docs_after_split)\n",
    "\n",
    "print(f'Before split, there were {len(docs_before_split)} documents loaded, with average characters equal to {avg_char_before_split}.')\n",
    "print(f'After split, there were {len(docs_after_split)} documents (chunks), with average characters equal to {avg_char_after_split} (average chunk length).')"
   ]
  },
  {
   "cell_type": "markdown",
   "id": "fb848221-447a-4c37-a99a-e34abd06158c",
   "metadata": {},
   "source": [
    "## Text Embeddings with Hugging Face models"
   ]
  },
  {
   "cell_type": "code",
   "execution_count": 5,
   "id": "4c331e59-8dd6-4e3e-ad53-25eaf5a7a76c",
   "metadata": {
    "tags": []
   },
   "outputs": [
    {
     "name": "stdout",
     "output_type": "stream",
     "text": [
      "CUDA is available. Number of GPUs: 1\n",
      "GPU 0: NVIDIA A100-SXM4-40GB\n"
     ]
    }
   ],
   "source": [
    "import os\n",
    "import torch\n",
    "# Print available CUDA GPUs\n",
    "if torch.cuda.is_available():\n",
    "    print(\"CUDA is available. Number of GPUs:\", torch.cuda.device_count())\n",
    "    for i in range(torch.cuda.device_count()):\n",
    "        print(f\"GPU {i}: {torch.cuda.get_device_name(i)}\")\n",
    "else:\n",
    "    print(\"CUDA is not available.\")"
   ]
  },
  {
   "cell_type": "code",
   "execution_count": 6,
   "id": "1975be6f-072d-4310-a5c0-4d6d35eb55f0",
   "metadata": {
    "tags": []
   },
   "outputs": [
    {
     "name": "stdout",
     "output_type": "stream",
     "text": [
      "CUDA_VISIBLE_DEVICES set to: 0\n"
     ]
    }
   ],
   "source": [
    "os.environ[\"CUDA_VISIBLE_DEVICES\"] = \"0\"\n",
    "print(\"CUDA_VISIBLE_DEVICES set to:\", os.environ[\"CUDA_VISIBLE_DEVICES\"])"
   ]
  },
  {
   "cell_type": "code",
   "execution_count": 7,
   "id": "162509fc-86f8-4a34-bd47-0347b086c045",
   "metadata": {
    "tags": []
   },
   "outputs": [
    {
     "data": {
      "application/json": {
       "ascii": false,
       "bar_format": null,
       "colour": null,
       "elapsed": 0.004555463790893555,
       "initial": 0,
       "n": 0,
       "ncols": null,
       "nrows": null,
       "postfix": null,
       "prefix": "modules.json",
       "rate": null,
       "total": 349,
       "unit": "B",
       "unit_divisor": 1000,
       "unit_scale": true
      },
      "application/vnd.jupyter.widget-view+json": {
       "model_id": "069ca229161c42d38724017c7b767912",
       "version_major": 2,
       "version_minor": 0
      },
      "text/plain": [
       "modules.json:   0%|          | 0.00/349 [00:00<?, ?B/s]"
      ]
     },
     "metadata": {},
     "output_type": "display_data"
    },
    {
     "data": {
      "application/json": {
       "ascii": false,
       "bar_format": null,
       "colour": null,
       "elapsed": 0.004658937454223633,
       "initial": 0,
       "n": 0,
       "ncols": null,
       "nrows": null,
       "postfix": null,
       "prefix": "config_sentence_transformers.json",
       "rate": null,
       "total": 116,
       "unit": "B",
       "unit_divisor": 1000,
       "unit_scale": true
      },
      "application/vnd.jupyter.widget-view+json": {
       "model_id": "5ecd422445ef42b6afb520b4a3d74bf0",
       "version_major": 2,
       "version_minor": 0
      },
      "text/plain": [
       "config_sentence_transformers.json:   0%|          | 0.00/116 [00:00<?, ?B/s]"
      ]
     },
     "metadata": {},
     "output_type": "display_data"
    },
    {
     "data": {
      "application/json": {
       "ascii": false,
       "bar_format": null,
       "colour": null,
       "elapsed": 0.004223346710205078,
       "initial": 0,
       "n": 0,
       "ncols": null,
       "nrows": null,
       "postfix": null,
       "prefix": "README.md",
       "rate": null,
       "total": 10621,
       "unit": "B",
       "unit_divisor": 1000,
       "unit_scale": true
      },
      "application/vnd.jupyter.widget-view+json": {
       "model_id": "d725e541352b428ab951e7fc4b09f562",
       "version_major": 2,
       "version_minor": 0
      },
      "text/plain": [
       "README.md:   0%|          | 0.00/10.6k [00:00<?, ?B/s]"
      ]
     },
     "metadata": {},
     "output_type": "display_data"
    },
    {
     "data": {
      "application/json": {
       "ascii": false,
       "bar_format": null,
       "colour": null,
       "elapsed": 0.004050254821777344,
       "initial": 0,
       "n": 0,
       "ncols": null,
       "nrows": null,
       "postfix": null,
       "prefix": "sentence_bert_config.json",
       "rate": null,
       "total": 53,
       "unit": "B",
       "unit_divisor": 1000,
       "unit_scale": true
      },
      "application/vnd.jupyter.widget-view+json": {
       "model_id": "58aedce97ab54e2fb9dac6ed37624c9f",
       "version_major": 2,
       "version_minor": 0
      },
      "text/plain": [
       "sentence_bert_config.json:   0%|          | 0.00/53.0 [00:00<?, ?B/s]"
      ]
     },
     "metadata": {},
     "output_type": "display_data"
    },
    {
     "name": "stderr",
     "output_type": "stream",
     "text": [
      "/home/user/miniconda/lib/python3.9/site-packages/huggingface_hub/file_download.py:1132: FutureWarning: `resume_download` is deprecated and will be removed in version 1.0.0. Downloads always resume when possible. If you want to force a new download, use `force_download=True`.\n",
      "  warnings.warn(\n"
     ]
    },
    {
     "data": {
      "application/json": {
       "ascii": false,
       "bar_format": null,
       "colour": null,
       "elapsed": 0.004000425338745117,
       "initial": 0,
       "n": 0,
       "ncols": null,
       "nrows": null,
       "postfix": null,
       "prefix": "config.json",
       "rate": null,
       "total": 571,
       "unit": "B",
       "unit_divisor": 1000,
       "unit_scale": true
      },
      "application/vnd.jupyter.widget-view+json": {
       "model_id": "5b4b9bfd303546a68ce7bc39eb3048a5",
       "version_major": 2,
       "version_minor": 0
      },
      "text/plain": [
       "config.json:   0%|          | 0.00/571 [00:00<?, ?B/s]"
      ]
     },
     "metadata": {},
     "output_type": "display_data"
    },
    {
     "data": {
      "application/json": {
       "ascii": false,
       "bar_format": null,
       "colour": null,
       "elapsed": 0.004755496978759766,
       "initial": 0,
       "n": 0,
       "ncols": null,
       "nrows": null,
       "postfix": null,
       "prefix": "model.safetensors",
       "rate": null,
       "total": 437971872,
       "unit": "B",
       "unit_divisor": 1000,
       "unit_scale": true
      },
      "application/vnd.jupyter.widget-view+json": {
       "model_id": "5191b1bfc29a4be69161ab20d4170f0d",
       "version_major": 2,
       "version_minor": 0
      },
      "text/plain": [
       "model.safetensors:   0%|          | 0.00/438M [00:00<?, ?B/s]"
      ]
     },
     "metadata": {},
     "output_type": "display_data"
    },
    {
     "data": {
      "application/json": {
       "ascii": false,
       "bar_format": null,
       "colour": null,
       "elapsed": 0.004414558410644531,
       "initial": 0,
       "n": 0,
       "ncols": null,
       "nrows": null,
       "postfix": null,
       "prefix": "tokenizer_config.json",
       "rate": null,
       "total": 363,
       "unit": "B",
       "unit_divisor": 1000,
       "unit_scale": true
      },
      "application/vnd.jupyter.widget-view+json": {
       "model_id": "91db48be367849c3b753c832d0989212",
       "version_major": 2,
       "version_minor": 0
      },
      "text/plain": [
       "tokenizer_config.json:   0%|          | 0.00/363 [00:00<?, ?B/s]"
      ]
     },
     "metadata": {},
     "output_type": "display_data"
    },
    {
     "data": {
      "application/json": {
       "ascii": false,
       "bar_format": null,
       "colour": null,
       "elapsed": 0.004052162170410156,
       "initial": 0,
       "n": 0,
       "ncols": null,
       "nrows": null,
       "postfix": null,
       "prefix": "vocab.txt",
       "rate": null,
       "total": 231536,
       "unit": "B",
       "unit_divisor": 1000,
       "unit_scale": true
      },
      "application/vnd.jupyter.widget-view+json": {
       "model_id": "44e88f66ef254577855ee63c472069e1",
       "version_major": 2,
       "version_minor": 0
      },
      "text/plain": [
       "vocab.txt:   0%|          | 0.00/232k [00:00<?, ?B/s]"
      ]
     },
     "metadata": {},
     "output_type": "display_data"
    },
    {
     "data": {
      "application/json": {
       "ascii": false,
       "bar_format": null,
       "colour": null,
       "elapsed": 0.005102872848510742,
       "initial": 0,
       "n": 0,
       "ncols": null,
       "nrows": null,
       "postfix": null,
       "prefix": "tokenizer.json",
       "rate": null,
       "total": 466021,
       "unit": "B",
       "unit_divisor": 1000,
       "unit_scale": true
      },
      "application/vnd.jupyter.widget-view+json": {
       "model_id": "ccc32df5808f46e2be67e055bafe854a",
       "version_major": 2,
       "version_minor": 0
      },
      "text/plain": [
       "tokenizer.json:   0%|          | 0.00/466k [00:00<?, ?B/s]"
      ]
     },
     "metadata": {},
     "output_type": "display_data"
    },
    {
     "data": {
      "application/json": {
       "ascii": false,
       "bar_format": null,
       "colour": null,
       "elapsed": 0.0039310455322265625,
       "initial": 0,
       "n": 0,
       "ncols": null,
       "nrows": null,
       "postfix": null,
       "prefix": "special_tokens_map.json",
       "rate": null,
       "total": 239,
       "unit": "B",
       "unit_divisor": 1000,
       "unit_scale": true
      },
      "application/vnd.jupyter.widget-view+json": {
       "model_id": "4f4aa5750aae4e04af877050bb6ccf51",
       "version_major": 2,
       "version_minor": 0
      },
      "text/plain": [
       "special_tokens_map.json:   0%|          | 0.00/239 [00:00<?, ?B/s]"
      ]
     },
     "metadata": {},
     "output_type": "display_data"
    },
    {
     "data": {
      "application/json": {
       "ascii": false,
       "bar_format": null,
       "colour": null,
       "elapsed": 0.004886627197265625,
       "initial": 0,
       "n": 0,
       "ncols": null,
       "nrows": null,
       "postfix": null,
       "prefix": "1_Pooling/config.json",
       "rate": null,
       "total": 190,
       "unit": "B",
       "unit_divisor": 1000,
       "unit_scale": true
      },
      "application/vnd.jupyter.widget-view+json": {
       "model_id": "a2d7906b1a324f22954ded39e658acbd",
       "version_major": 2,
       "version_minor": 0
      },
      "text/plain": [
       "1_Pooling/config.json:   0%|          | 0.00/190 [00:00<?, ?B/s]"
      ]
     },
     "metadata": {},
     "output_type": "display_data"
    }
   ],
   "source": [
    "huggingface_embeddings = HuggingFaceBgeEmbeddings(\n",
    "    model_name=\"sentence-transformers/all-mpnet-base-v2\",  # alternatively use \"sentence-transformers/all-MiniLM-l6-v2\" for a light and faster experience.\n",
    "    encode_kwargs={'normalize_embeddings': True}\n",
    ")"
   ]
  },
  {
   "cell_type": "code",
   "execution_count": 8,
   "id": "55bcf112-ef4d-4b47-acdf-9f546f41f561",
   "metadata": {
    "tags": []
   },
   "outputs": [
    {
     "name": "stdout",
     "output_type": "stream",
     "text": [
      "Sample embedding of a document chunk:  [ 2.13129763e-02 -6.72915876e-02 -3.18347290e-02  1.94846299e-02\n",
      " -2.18812209e-02  1.67022049e-02  3.33516598e-02 -4.52170670e-02\n",
      "  2.75168978e-02 -2.33039055e-02  3.66176628e-02 -2.37919367e-03\n",
      "  3.44308205e-02 -1.23412088e-02  4.55992967e-02 -5.49793020e-02\n",
      "  6.02602772e-02 -3.68011668e-02 -1.96892265e-02  2.58359611e-02\n",
      "  4.57998700e-02  1.75656341e-02  4.53522243e-02  4.84684529e-03\n",
      "  2.04574335e-02  3.06395255e-02 -3.26061733e-02  1.32259727e-02\n",
      "  4.76542376e-02 -1.02408491e-02  5.65457419e-02 -1.05057620e-02\n",
      "  1.08465813e-02 -8.40618089e-02  1.55770294e-06 -1.99244972e-02\n",
      " -8.54423121e-02  6.21012365e-03  9.01253074e-02  1.34018445e-02\n",
      "  3.49129923e-02  3.64515930e-02 -8.29524547e-03  9.05552972e-03\n",
      " -1.51977250e-02  3.38855125e-02 -3.40571329e-02 -2.83595268e-02\n",
      "  3.46285962e-02  1.11265751e-02  3.01981829e-02 -1.61561358e-03\n",
      " -5.44068329e-02  3.80321704e-02  4.80201207e-02  1.23540880e-02\n",
      "  1.47848506e-03  2.63242647e-02  1.96637288e-02  3.51861306e-02\n",
      "  6.21087197e-03  8.15579668e-02 -2.26895604e-02 -3.30529250e-02\n",
      " -1.83921866e-02 -2.32986640e-02 -2.07659733e-02 -6.94256350e-02\n",
      "  5.87307401e-02  1.57536827e-02  1.03981897e-01  1.28023382e-02\n",
      "  2.29701623e-02  2.26589441e-02  1.14259422e-02  7.27416873e-02\n",
      "  1.71483960e-04  4.60105985e-02  1.46839686e-03 -1.23349559e-02\n",
      "  6.28220737e-02  3.24365012e-02 -2.57325755e-03  2.87566092e-02\n",
      " -5.41961230e-02  7.63545707e-02 -8.47092085e-03 -1.04274377e-02\n",
      " -1.79129317e-02 -5.78340702e-02 -3.75677124e-02  4.66212584e-03\n",
      " -8.06322228e-03 -2.88729230e-03 -3.73829417e-02 -3.52232642e-02\n",
      "  2.97953412e-02 -1.31839095e-03  5.74057922e-02 -5.40866852e-02\n",
      " -1.10988067e-02  2.29218099e-02 -2.10088808e-02  1.67677160e-02\n",
      "  2.29726452e-02  1.32210758e-02 -1.04237627e-02 -1.90470123e-03\n",
      " -3.34381498e-02 -1.32725937e-02 -1.07227145e-02 -4.92767431e-02\n",
      " -2.38380469e-02 -4.90434058e-02 -3.33943814e-02  8.87669101e-02\n",
      "  3.34812962e-02 -2.97644176e-02  1.55141139e-02 -4.79729027e-02\n",
      "  6.06883923e-03 -1.51421828e-02 -5.62635856e-03  1.82151590e-02\n",
      " -5.95361516e-02  6.45021675e-03 -5.80762140e-02 -2.21878607e-02\n",
      "  4.01962250e-02  9.49964393e-03  2.52112821e-02  2.82807257e-02\n",
      "  3.71958278e-02  2.81626754e-03  1.94579437e-02  1.91976242e-02\n",
      "  5.51390983e-02 -2.70301551e-02  4.27042879e-03  4.23421152e-02\n",
      "  1.65424887e-02 -8.67260806e-03 -3.25466394e-02  1.56246712e-02\n",
      " -5.92907285e-03  3.16548459e-02 -2.13263910e-02  4.74330820e-02\n",
      " -3.22221331e-02  4.14120480e-02 -1.61053035e-02 -1.68102840e-03\n",
      " -2.95593720e-02 -5.24714924e-02  6.63316473e-02  3.20995077e-02\n",
      "  2.38553490e-02 -2.01315401e-04 -2.66437996e-02  5.03704650e-04\n",
      " -5.34804389e-02  3.29118744e-02  1.27545036e-02 -4.10043225e-02\n",
      " -7.86106160e-04  3.86973731e-02  8.76337942e-03  5.35158813e-02\n",
      "  1.47162341e-02  3.52571383e-02 -6.32753037e-03 -2.19735038e-02\n",
      "  3.94908618e-03 -1.43644447e-02  3.38933547e-03  9.83774848e-03\n",
      " -4.69551645e-02 -2.18120008e-03 -1.41182207e-02  8.48931000e-02\n",
      " -2.42531504e-02 -2.63516456e-02  1.44995190e-02 -1.36941206e-02\n",
      " -3.19084041e-02 -4.21156222e-03  1.54600404e-02  8.81497748e-03\n",
      " -8.44231155e-03  5.20083215e-03  5.55930799e-03  5.34845330e-02\n",
      " -1.61534769e-03 -2.98049264e-02 -4.37776037e-02  4.01493832e-02\n",
      "  3.64641137e-02 -8.53288770e-02 -2.28410047e-02 -6.86279126e-03\n",
      "  3.03025264e-02  2.67326552e-02 -2.09713518e-03 -4.00316380e-02\n",
      " -2.67552380e-02  8.05527437e-03 -2.62655783e-02 -3.08981575e-02\n",
      " -4.63265041e-03 -4.21969816e-02 -3.01145855e-02  3.57832536e-02\n",
      " -4.04314138e-02  1.36895655e-02 -4.44043651e-02  3.85765848e-03\n",
      " -3.35692521e-03  8.73024296e-03 -2.77010333e-02  1.11665893e-02\n",
      " -7.26166787e-03  2.53675170e-02 -1.94715690e-02 -1.21034887e-02\n",
      "  1.50751611e-02 -1.15115428e-02 -6.13106862e-02  3.21785919e-02\n",
      "  3.15917023e-02 -3.71955708e-02 -6.55513117e-03  1.92117598e-02\n",
      " -2.98009887e-02 -1.88452806e-02 -3.95518653e-02  3.58573757e-02\n",
      "  1.08366106e-02  3.60570140e-02 -2.44118199e-02 -1.52006513e-02\n",
      "  9.53837391e-03 -5.95521890e-02  5.16813025e-02  2.05371082e-02\n",
      "  5.56334853e-03  3.54108587e-02  6.39421726e-03  1.01898042e-02\n",
      "  1.65039077e-02  5.64596616e-02  9.22732055e-03  4.19408083e-03\n",
      "  6.59556910e-02  8.63085967e-03  1.90972984e-02  6.03779927e-02\n",
      " -2.17548124e-02  7.86554813e-03 -4.71174531e-03  1.60255879e-02\n",
      " -6.95492979e-03 -5.67571223e-02 -3.57345701e-03  4.77791950e-03\n",
      " -3.33410525e-03 -1.77008118e-02  4.12446074e-02  5.62726296e-02\n",
      "  1.14693167e-02 -9.44316108e-03  1.02267961e-03 -3.40333432e-02\n",
      "  1.51025774e-02 -2.32275054e-02 -9.68013518e-03 -1.87816378e-02\n",
      " -7.37475753e-02  1.16640935e-02 -8.01784545e-03  2.70289630e-02\n",
      "  5.56354150e-02  7.44928140e-04 -1.78565495e-02  3.90201919e-02\n",
      " -1.81612354e-02  4.83766943e-02  3.16796601e-02 -5.76979667e-03\n",
      "  8.99023004e-03  7.02200159e-02 -6.53541088e-03  2.06354931e-02\n",
      " -2.37108814e-03 -9.71853174e-03 -1.80466250e-02 -1.38006322e-02\n",
      "  5.92631213e-02 -1.33355893e-02  3.25274915e-02  1.27316425e-02\n",
      " -1.60535425e-02 -3.71151231e-02 -6.89487532e-02  5.48799634e-02\n",
      " -1.83672253e-02 -1.91655811e-02  2.99708676e-02 -5.22201061e-02\n",
      " -3.48389568e-03 -9.56296846e-02  1.31808938e-02  1.57631859e-02\n",
      "  4.53403406e-02  2.21295971e-02 -3.68688889e-02  2.79460251e-02\n",
      " -5.85423931e-02  3.33918817e-02  2.60572191e-02  1.16133116e-01\n",
      "  1.30487159e-02 -4.78684492e-02 -5.15853465e-02  2.56898012e-02\n",
      "  3.50496992e-02 -5.09344377e-02 -4.01986465e-02  1.92528346e-03\n",
      "  2.04737131e-02 -1.09798713e-02 -4.03531715e-02  2.68798638e-02\n",
      "  1.54492194e-02 -3.74486633e-02 -7.00124651e-02  5.07040322e-02\n",
      "  2.27777734e-02 -7.91751593e-02  1.96867026e-02  3.35285924e-02\n",
      " -1.84407849e-02 -6.40400546e-03 -3.69013101e-03 -3.68777439e-02\n",
      "  3.52055915e-02  2.26297881e-02  4.15418707e-02  2.82819569e-02\n",
      " -8.21154937e-02  5.58219291e-02  2.89505571e-02  1.60706080e-02\n",
      " -2.67619118e-02  2.01920513e-03 -3.26581784e-02 -8.87792464e-03\n",
      " -1.79057550e-02 -2.70748734e-02  1.52282529e-02 -6.33256696e-03\n",
      " -3.60962115e-02  4.94868774e-03 -6.84087127e-02  3.52240307e-03\n",
      " -3.25605907e-02  3.00517818e-03 -2.04022471e-02 -3.67261432e-02\n",
      " -5.20649785e-03 -5.47255278e-02 -6.12993166e-02 -3.62545773e-02\n",
      " -1.67347724e-03  1.79518219e-02  4.82590636e-03  8.50416999e-03\n",
      " -5.02801202e-02 -5.98367490e-02 -2.38468368e-02 -2.06864253e-02\n",
      "  9.24264838e-04 -2.65473146e-02  9.47517231e-02  3.75079624e-02\n",
      " -3.70999165e-02  6.68666034e-04  1.41125442e-02  1.09816203e-02\n",
      "  8.51754174e-02 -5.32775070e-04 -2.23866068e-02  4.88428725e-03\n",
      " -3.91458571e-02 -2.81713810e-02  2.26434600e-03  1.45420583e-03\n",
      " -4.02780697e-02 -2.18923390e-02 -1.68377510e-03  4.47490392e-03\n",
      "  1.46012399e-02 -3.22129130e-02  1.46656260e-02  6.09268947e-03\n",
      " -2.43830737e-02 -7.06356913e-02  6.88774437e-02 -2.99090403e-03\n",
      " -3.83156212e-03  5.02374433e-02 -5.78469448e-02 -6.92338198e-02\n",
      " -1.45178763e-02 -4.35856497e-03 -3.29589508e-02  1.04880892e-02\n",
      " -2.24509779e-02 -2.27634199e-02 -1.34933293e-02 -6.66659838e-03\n",
      " -4.87121195e-03  2.54432410e-02  3.51910740e-02 -5.22494800e-02\n",
      "  7.34943599e-02  1.01450644e-02  6.38985187e-02  1.53174037e-02\n",
      "  9.36147477e-03  3.81033942e-02  2.70765293e-02 -3.56958918e-02\n",
      " -7.05032051e-02 -5.68257086e-03 -3.20987850e-02 -4.93568890e-02\n",
      " -9.86716710e-03  4.90421839e-02  4.03885394e-02  2.41495967e-02\n",
      "  3.99271362e-02  3.45128067e-02  2.44290419e-02 -1.13110605e-03\n",
      "  2.07726154e-02  4.44004647e-02  2.58692298e-02  1.69685483e-02\n",
      "  9.24947206e-03  3.25821899e-02 -3.22321802e-02 -2.55214684e-02\n",
      " -6.31537987e-03  6.16412284e-03  1.33188795e-02 -2.98307627e-03\n",
      "  1.77337807e-02 -1.11308776e-01  1.43223265e-02 -1.64775958e-03\n",
      " -1.78941134e-02  2.24814750e-02 -6.28744364e-02  3.77183408e-03\n",
      "  1.45496428e-02 -1.97120430e-03  2.13167742e-02 -5.49768284e-02\n",
      " -2.98734941e-02 -3.55669409e-02 -5.69545105e-03 -2.16813795e-02\n",
      " -3.07213841e-03  5.19701578e-02  4.15063463e-03 -5.63168079e-02\n",
      " -1.18049572e-03  2.29286570e-02 -9.37104598e-03  1.93542894e-03\n",
      " -4.36424837e-02  4.73898053e-02  7.08079385e-03 -1.02169923e-01\n",
      " -1.16572632e-02  2.27342336e-03  7.83456489e-05  7.10413558e-03\n",
      "  5.77989221e-03  4.37114015e-02 -2.17858031e-02 -7.97389250e-04\n",
      " -2.42099036e-02  1.74904596e-02 -1.98705439e-02 -5.38734859e-03\n",
      " -3.81810367e-02  7.88117051e-02  4.26170379e-02  8.98141041e-03\n",
      " -2.35556364e-02  3.05843037e-02  4.40413132e-02 -9.07832384e-02\n",
      " -8.42123665e-03 -1.75962225e-03  1.64091140e-02 -7.14879259e-02\n",
      " -1.44023206e-02 -1.99940614e-03  5.10630757e-02 -1.37435272e-02\n",
      "  2.64014816e-03 -9.27151530e-04 -2.68113967e-02  5.23728356e-02\n",
      " -2.21038777e-02 -3.43989916e-02 -1.33130923e-02  1.91541705e-02\n",
      "  1.20539488e-02  1.15683042e-05  1.85782555e-02  4.38370928e-03\n",
      " -1.98380128e-02  4.27231230e-02  1.66843198e-02 -2.08241995e-02\n",
      " -1.45210675e-03 -2.69404389e-02  4.01162356e-02 -6.22717887e-02\n",
      "  4.98671681e-02 -1.90500431e-02 -2.61844061e-02 -5.51478798e-03\n",
      " -3.59508172e-02 -3.04439962e-02 -3.23511139e-02  5.88042149e-03\n",
      " -1.08201858e-02 -5.99511750e-02  4.51312251e-02 -2.12114807e-02\n",
      " -3.22345756e-02  5.75649031e-02 -3.84849161e-02 -3.85295339e-02\n",
      " -3.18302982e-03 -7.92662948e-02  7.09884707e-03  5.16116321e-02\n",
      " -9.31096599e-02 -1.31115187e-02  3.18279043e-02 -6.17711555e-33\n",
      " -3.22700292e-02 -8.87422450e-03  3.03100944e-02  2.54079457e-02\n",
      "  4.92716348e-03  2.45371256e-02  3.93783860e-02 -8.38070828e-03\n",
      " -5.39347976e-02 -2.74199969e-03 -1.88640244e-02  1.03632482e-02\n",
      "  2.09360588e-02 -1.04825180e-02  2.24189777e-02 -1.63351391e-02\n",
      " -2.72443146e-02 -1.71511259e-04 -1.83475465e-02 -2.58063134e-02\n",
      "  4.22932878e-02 -6.06154883e-03  4.37784828e-02 -3.67094874e-02\n",
      "  8.00289866e-03 -8.95938575e-02 -6.11343496e-02 -2.12248340e-02\n",
      "  4.53182776e-03  5.85586764e-03 -1.10595282e-02 -1.33604463e-02\n",
      " -3.24131711e-03 -3.51238288e-02 -6.71223085e-03 -7.35674147e-03\n",
      " -1.82188377e-02 -3.16089951e-02  4.50879335e-03  1.15352171e-02\n",
      " -1.85819138e-02 -4.82763499e-02 -5.37587218e-02  4.64386605e-02\n",
      "  2.54892502e-02  2.92305499e-02  1.79655086e-02 -1.90284643e-02\n",
      " -2.22989153e-02  2.31196880e-02 -1.58404801e-02  3.66126522e-02\n",
      " -1.27979973e-02  8.03091303e-02 -1.17650284e-02  1.38325840e-01\n",
      "  9.78223048e-03  4.91568707e-02 -3.88991684e-02 -2.48030350e-02\n",
      "  3.50508913e-02  7.39883259e-02  3.23320292e-02  3.52390185e-02\n",
      "  7.52221700e-03  1.47607429e-02 -8.87061357e-02 -1.75998472e-02\n",
      "  9.77892708e-03 -6.36961311e-02  8.38245172e-03 -3.00172083e-02\n",
      " -8.37579817e-02  1.19184807e-01 -2.67536193e-02 -7.51065277e-03\n",
      " -5.85563071e-02  6.37595206e-02  1.15901260e-02  4.23220322e-02\n",
      "  1.96079519e-02 -5.29309623e-02 -7.57473521e-04 -5.31623745e-03\n",
      " -3.13946791e-02  3.74172032e-02 -1.94222871e-02  4.85048853e-02\n",
      "  6.31335303e-02 -1.74585972e-02  5.65629154e-02  7.07915276e-02\n",
      " -3.10467631e-02  3.06301862e-02  6.86686635e-02  1.61422801e-03\n",
      " -2.59431619e-02 -1.74687244e-02  2.17647832e-02  6.28962442e-02\n",
      "  2.99036270e-03  3.13852943e-04 -2.25410070e-02  1.10136932e-02\n",
      " -2.21359786e-02 -6.29592175e-03  8.68903007e-03  1.95645522e-02\n",
      " -4.77844216e-02 -3.67938429e-02  7.70052942e-03 -3.38550587e-03\n",
      " -2.93456465e-02  7.72888139e-02 -5.26865274e-02 -3.22197657e-03\n",
      "  2.50141285e-02  2.54859123e-02  1.85349565e-02  2.96095591e-02\n",
      "  5.42251207e-02  3.63466283e-03 -4.84196395e-02 -3.03616864e-03\n",
      "  3.32707837e-02  1.95349511e-02  2.55214167e-03  5.07108308e-03\n",
      " -4.59959917e-02 -7.10954331e-03  2.73740124e-02  5.06368279e-02\n",
      "  2.44459585e-07  5.99365085e-02 -8.45188927e-03 -2.37602573e-02\n",
      " -2.20153686e-02 -6.18271716e-02 -9.13765840e-03  1.67353507e-02\n",
      "  2.41554398e-02 -1.32139549e-02  6.65174723e-02 -6.99645898e-05\n",
      " -4.86108586e-02 -6.45263819e-03  1.19387629e-02 -2.98269652e-02\n",
      " -7.91840553e-02  1.20497718e-02 -2.24155132e-02 -2.93400325e-02\n",
      " -5.94975874e-02  1.67490598e-02  8.02993998e-02 -1.44696496e-02\n",
      "  3.14884335e-02 -4.53728111e-03  3.08361854e-02  4.93040122e-02\n",
      " -5.62823936e-02 -6.64886534e-02 -2.16133874e-02  1.91199016e-02\n",
      " -2.68322579e-03  4.98732552e-02  2.40429975e-02 -1.23098232e-02\n",
      " -4.49918620e-02 -1.86327379e-02  2.72610504e-03  1.26753747e-01\n",
      " -2.12841630e-02  6.90827286e-03  3.20023345e-03  5.14597585e-03\n",
      " -8.93707946e-02 -1.04437880e-02  2.82107871e-02  2.57498771e-02\n",
      "  1.50727853e-03 -5.57831973e-02  8.21446404e-02  4.93995138e-02\n",
      " -1.64775492e-03 -1.16102863e-02  7.14448327e-03 -1.30113093e-02\n",
      " -5.02047874e-02  2.35099476e-02  1.68697983e-02  3.69351804e-02\n",
      " -8.84866193e-02 -8.90825223e-03  4.12258431e-02 -2.56298948e-02\n",
      "  1.49881970e-02  3.96031439e-02  2.93134935e-02  6.27683252e-02\n",
      "  2.17137362e-34  1.47642419e-02 -3.24020088e-02 -4.62937094e-02\n",
      " -4.00617607e-02 -6.00067666e-03  2.58366973e-03 -6.17871433e-02\n",
      "  6.84746727e-03 -2.77068224e-02 -7.27474457e-03  7.98813440e-03]\n",
      "Size of the embedding:  (768,)\n"
     ]
    }
   ],
   "source": [
    "sample_embedding = np.array(huggingface_embeddings.embed_query(docs_after_split[0].page_content))\n",
    "print(\"Sample embedding of a document chunk: \", sample_embedding)\n",
    "print(\"Size of the embedding: \", sample_embedding.shape)"
   ]
  },
  {
   "cell_type": "markdown",
   "id": "5961c71c-cbe1-41dd-946b-6c7d16075689",
   "metadata": {},
   "source": [
    "## Retrieval System for vector embeddings"
   ]
  },
  {
   "cell_type": "markdown",
   "id": "2de63fde-9c1a-483d-8bff-450a874eaf15",
   "metadata": {
    "tags": []
   },
   "source": [
    "FAISS (Facebook AI Similarity Search) is a library that allows developers to quickly search for embeddings of multimedia documents that are similar to each other. It solves limitations of traditional query search engines that are optimized for hash-based searches, and provides more scalable similarity search functions (nearest-neighbor search implementations)."
   ]
  },
  {
   "cell_type": "code",
   "execution_count": 9,
   "id": "7d903255-83d5-422a-a674-d40ff327fa19",
   "metadata": {
    "tags": []
   },
   "outputs": [],
   "source": [
    "vectorstore = FAISS.from_documents(docs_after_split, huggingface_embeddings)"
   ]
  },
  {
   "cell_type": "code",
   "execution_count": 10,
   "id": "eabac78c-9d2f-4d1a-9573-5466ddecfb04",
   "metadata": {
    "tags": []
   },
   "outputs": [
    {
     "name": "stdout",
     "output_type": "stream",
     "text": [
      "There are 4 documents retrieved which are relevant to the query. Display the first one:\n",
      "\n",
      "15\n",
      "CLIMATE RISK COUNTRY PROFILE: MOROCCOcountry’s economic growth has overall become more resilient, agriculture remains dependent on the climate and \n",
      "thus remains highly vulnerable. Cereals are a predominant crop in Morocco, planted on nearly 43% of all agricultural \n",
      "areas, however cereals are less dominant in terms of value as compared to Morocco’s other agriculture outputs. \n",
      "Key agricultural exports include citrus fruit (especially oranges), vegetables (e.g., pepper, tomato, green bean), \n",
      "almonds, table olives and olive oil, dairy products, and, more recently, blueberries, cherries and asparagus. Early \n",
      "season vegetables and specialty crops such as Argan, have the highest value for export.\n",
      "Morocco has made progress in recent years to expand irrigation for commercial agriculture. Over the last 15 years, \n",
      "significant efforts have been made to increase water productivity in agriculture. This has led to the integration of\n"
     ]
    }
   ],
   "source": [
    "query = \"\"\"I'm a farmer from Morocco, can you give recommendations based on the weather on what crops I can grow?\"\"\"  \n",
    "\n",
    "relevant_documents = vectorstore.similarity_search(query)\n",
    "print(f'There are {len(relevant_documents)} documents retrieved which are relevant to the query. Display the first one:\\n')\n",
    "print(relevant_documents[0].page_content)"
   ]
  },
  {
   "cell_type": "markdown",
   "id": "e167301b-1b95-406f-8616-aacd29692a8c",
   "metadata": {},
   "source": [
    "## Create a retriever interface using vector store, we’ll use it later to construct Q & A chain using LangChain."
   ]
  },
  {
   "cell_type": "code",
   "execution_count": 11,
   "id": "7e01561f-cf12-4382-81b1-b3ba610934da",
   "metadata": {
    "tags": []
   },
   "outputs": [],
   "source": [
    "# Use similarity searching algorithm and return 3 most relevant documents.\n",
    "retriever = vectorstore.as_retriever(search_type=\"similarity\", search_kwargs={\"k\": 3})"
   ]
  },
  {
   "cell_type": "markdown",
   "id": "197d3d4a-bf9c-44ac-bf6b-ff6d038f89f8",
   "metadata": {},
   "source": [
    "Now we have our vector store and retrieval system ready. We then need a large language model (LLM) to process information and answer the question."
   ]
  },
  {
   "cell_type": "code",
   "execution_count": 12,
   "id": "90914adc-fe5c-4cb3-bf85-7bbe6086782f",
   "metadata": {
    "tags": []
   },
   "outputs": [
    {
     "name": "stderr",
     "output_type": "stream",
     "text": [
      "huggingface/tokenizers: The current process just got forked, after parallelism has already been used. Disabling parallelism to avoid deadlocks...\n",
      "To disable this warning, you can either:\n",
      "\t- Avoid using `tokenizers` before the fork if possible\n",
      "\t- Explicitly set the environment variable TOKENIZERS_PARALLELISM=(true | false)\n"
     ]
    },
    {
     "name": "stdout",
     "output_type": "stream",
     "text": [
      "Collecting accelerate\n",
      "  Downloading accelerate-0.30.1-py3-none-any.whl (302 kB)\n",
      "\u001b[K     |████████████████████████████████| 302 kB 4.2 MB/s eta 0:00:01\n",
      "\u001b[?25hRequirement already satisfied: pyyaml in /home/user/miniconda/lib/python3.9/site-packages (from accelerate) (6.0.1)\n",
      "Requirement already satisfied: torch>=1.10.0 in /home/user/miniconda/lib/python3.9/site-packages (from accelerate) (2.3.0)\n",
      "Requirement already satisfied: huggingface-hub in /home/user/miniconda/lib/python3.9/site-packages (from accelerate) (0.23.0)\n",
      "Requirement already satisfied: safetensors>=0.3.1 in /home/user/miniconda/lib/python3.9/site-packages (from accelerate) (0.4.3)\n",
      "Requirement already satisfied: packaging>=20.0 in /home/user/miniconda/lib/python3.9/site-packages (from accelerate) (23.2)\n",
      "Requirement already satisfied: psutil in /home/user/miniconda/lib/python3.9/site-packages (from accelerate) (5.9.8)\n",
      "Requirement already satisfied: numpy>=1.17 in /home/user/miniconda/lib/python3.9/site-packages (from accelerate) (1.26.4)\n",
      "Requirement already satisfied: typing-extensions>=4.8.0 in /home/user/miniconda/lib/python3.9/site-packages (from torch>=1.10.0->accelerate) (4.11.0)\n",
      "Requirement already satisfied: jinja2 in /home/user/miniconda/lib/python3.9/site-packages (from torch>=1.10.0->accelerate) (3.1.4)\n",
      "Requirement already satisfied: nvidia-cuda-nvrtc-cu12==12.1.105 in /home/user/miniconda/lib/python3.9/site-packages (from torch>=1.10.0->accelerate) (12.1.105)\n",
      "Requirement already satisfied: nvidia-cuda-cupti-cu12==12.1.105 in /home/user/miniconda/lib/python3.9/site-packages (from torch>=1.10.0->accelerate) (12.1.105)\n",
      "Requirement already satisfied: sympy in /home/user/miniconda/lib/python3.9/site-packages (from torch>=1.10.0->accelerate) (1.12)\n",
      "Requirement already satisfied: nvidia-curand-cu12==10.3.2.106 in /home/user/miniconda/lib/python3.9/site-packages (from torch>=1.10.0->accelerate) (10.3.2.106)\n",
      "Requirement already satisfied: nvidia-nccl-cu12==2.20.5 in /home/user/miniconda/lib/python3.9/site-packages (from torch>=1.10.0->accelerate) (2.20.5)\n",
      "Requirement already satisfied: fsspec in /home/user/miniconda/lib/python3.9/site-packages (from torch>=1.10.0->accelerate) (2024.5.0)\n",
      "Requirement already satisfied: nvidia-cudnn-cu12==8.9.2.26 in /home/user/miniconda/lib/python3.9/site-packages (from torch>=1.10.0->accelerate) (8.9.2.26)\n",
      "Requirement already satisfied: nvidia-cuda-runtime-cu12==12.1.105 in /home/user/miniconda/lib/python3.9/site-packages (from torch>=1.10.0->accelerate) (12.1.105)\n",
      "Requirement already satisfied: nvidia-cublas-cu12==12.1.3.1 in /home/user/miniconda/lib/python3.9/site-packages (from torch>=1.10.0->accelerate) (12.1.3.1)\n",
      "Requirement already satisfied: nvidia-cusolver-cu12==11.4.5.107 in /home/user/miniconda/lib/python3.9/site-packages (from torch>=1.10.0->accelerate) (11.4.5.107)\n",
      "Requirement already satisfied: nvidia-nvtx-cu12==12.1.105 in /home/user/miniconda/lib/python3.9/site-packages (from torch>=1.10.0->accelerate) (12.1.105)\n",
      "Requirement already satisfied: triton==2.3.0 in /home/user/miniconda/lib/python3.9/site-packages (from torch>=1.10.0->accelerate) (2.3.0)\n",
      "Requirement already satisfied: nvidia-cusparse-cu12==12.1.0.106 in /home/user/miniconda/lib/python3.9/site-packages (from torch>=1.10.0->accelerate) (12.1.0.106)\n",
      "Requirement already satisfied: networkx in /home/user/miniconda/lib/python3.9/site-packages (from torch>=1.10.0->accelerate) (3.2.1)\n",
      "Requirement already satisfied: nvidia-cufft-cu12==11.0.2.54 in /home/user/miniconda/lib/python3.9/site-packages (from torch>=1.10.0->accelerate) (11.0.2.54)\n",
      "Requirement already satisfied: filelock in /home/user/miniconda/lib/python3.9/site-packages (from torch>=1.10.0->accelerate) (3.14.0)\n",
      "Requirement already satisfied: nvidia-nvjitlink-cu12 in /home/user/miniconda/lib/python3.9/site-packages (from nvidia-cusolver-cu12==11.4.5.107->torch>=1.10.0->accelerate) (12.4.127)\n",
      "Requirement already satisfied: tqdm>=4.42.1 in /home/user/miniconda/lib/python3.9/site-packages (from huggingface-hub->accelerate) (4.61.2)\n",
      "Requirement already satisfied: requests in /home/user/miniconda/lib/python3.9/site-packages (from huggingface-hub->accelerate) (2.31.0)\n",
      "Requirement already satisfied: MarkupSafe>=2.0 in /home/user/miniconda/lib/python3.9/site-packages (from jinja2->torch>=1.10.0->accelerate) (2.1.5)\n",
      "Requirement already satisfied: urllib3<3,>=1.21.1 in /home/user/miniconda/lib/python3.9/site-packages (from requests->huggingface-hub->accelerate) (1.26.6)\n",
      "Requirement already satisfied: certifi>=2017.4.17 in /home/user/miniconda/lib/python3.9/site-packages (from requests->huggingface-hub->accelerate) (2021.5.30)\n",
      "Requirement already satisfied: idna<4,>=2.5 in /home/user/miniconda/lib/python3.9/site-packages (from requests->huggingface-hub->accelerate) (2.10)\n",
      "Requirement already satisfied: charset-normalizer<4,>=2 in /home/user/miniconda/lib/python3.9/site-packages (from requests->huggingface-hub->accelerate) (3.3.2)\n",
      "Requirement already satisfied: mpmath>=0.19 in /home/user/miniconda/lib/python3.9/site-packages (from sympy->torch>=1.10.0->accelerate) (1.3.0)\n",
      "Installing collected packages: accelerate\n",
      "Successfully installed accelerate-0.30.1\n"
     ]
    },
    {
     "name": "stderr",
     "output_type": "stream",
     "text": [
      "huggingface/tokenizers: The current process just got forked, after parallelism has already been used. Disabling parallelism to avoid deadlocks...\n",
      "To disable this warning, you can either:\n",
      "\t- Avoid using `tokenizers` before the fork if possible\n",
      "\t- Explicitly set the environment variable TOKENIZERS_PARALLELISM=(true | false)\n"
     ]
    },
    {
     "name": "stdout",
     "output_type": "stream",
     "text": [
      "Requirement already satisfied: transformers in /home/user/miniconda/lib/python3.9/site-packages (4.41.0)\n",
      "Requirement already satisfied: torch in /home/user/miniconda/lib/python3.9/site-packages (2.3.0)\n",
      "Requirement already satisfied: langchain_community in /home/user/miniconda/lib/python3.9/site-packages (0.2.0)\n",
      "Requirement already satisfied: numpy>=1.17 in /home/user/miniconda/lib/python3.9/site-packages (from transformers) (1.26.4)\n",
      "Requirement already satisfied: filelock in /home/user/miniconda/lib/python3.9/site-packages (from transformers) (3.14.0)\n",
      "Requirement already satisfied: huggingface-hub<1.0,>=0.23.0 in /home/user/miniconda/lib/python3.9/site-packages (from transformers) (0.23.0)\n",
      "Requirement already satisfied: tqdm>=4.27 in /home/user/miniconda/lib/python3.9/site-packages (from transformers) (4.61.2)\n",
      "Requirement already satisfied: pyyaml>=5.1 in /home/user/miniconda/lib/python3.9/site-packages (from transformers) (6.0.1)\n",
      "Requirement already satisfied: regex!=2019.12.17 in /home/user/miniconda/lib/python3.9/site-packages (from transformers) (2024.5.15)\n",
      "Requirement already satisfied: packaging>=20.0 in /home/user/miniconda/lib/python3.9/site-packages (from transformers) (23.2)\n",
      "Requirement already satisfied: requests in /home/user/miniconda/lib/python3.9/site-packages (from transformers) (2.31.0)\n",
      "Requirement already satisfied: safetensors>=0.4.1 in /home/user/miniconda/lib/python3.9/site-packages (from transformers) (0.4.3)\n",
      "Requirement already satisfied: tokenizers<0.20,>=0.19 in /home/user/miniconda/lib/python3.9/site-packages (from transformers) (0.19.1)\n",
      "Requirement already satisfied: fsspec>=2023.5.0 in /home/user/miniconda/lib/python3.9/site-packages (from huggingface-hub<1.0,>=0.23.0->transformers) (2024.5.0)\n",
      "Requirement already satisfied: typing-extensions>=3.7.4.3 in /home/user/miniconda/lib/python3.9/site-packages (from huggingface-hub<1.0,>=0.23.0->transformers) (4.11.0)\n",
      "Requirement already satisfied: triton==2.3.0 in /home/user/miniconda/lib/python3.9/site-packages (from torch) (2.3.0)\n",
      "Requirement already satisfied: networkx in /home/user/miniconda/lib/python3.9/site-packages (from torch) (3.2.1)\n",
      "Requirement already satisfied: nvidia-cusparse-cu12==12.1.0.106 in /home/user/miniconda/lib/python3.9/site-packages (from torch) (12.1.0.106)\n",
      "Requirement already satisfied: nvidia-cuda-runtime-cu12==12.1.105 in /home/user/miniconda/lib/python3.9/site-packages (from torch) (12.1.105)\n",
      "Requirement already satisfied: nvidia-cuda-nvrtc-cu12==12.1.105 in /home/user/miniconda/lib/python3.9/site-packages (from torch) (12.1.105)\n",
      "Requirement already satisfied: nvidia-cudnn-cu12==8.9.2.26 in /home/user/miniconda/lib/python3.9/site-packages (from torch) (8.9.2.26)\n",
      "Requirement already satisfied: nvidia-cublas-cu12==12.1.3.1 in /home/user/miniconda/lib/python3.9/site-packages (from torch) (12.1.3.1)\n",
      "Requirement already satisfied: sympy in /home/user/miniconda/lib/python3.9/site-packages (from torch) (1.12)\n",
      "Requirement already satisfied: nvidia-cufft-cu12==11.0.2.54 in /home/user/miniconda/lib/python3.9/site-packages (from torch) (11.0.2.54)\n",
      "Requirement already satisfied: jinja2 in /home/user/miniconda/lib/python3.9/site-packages (from torch) (3.1.4)\n",
      "Requirement already satisfied: nvidia-curand-cu12==10.3.2.106 in /home/user/miniconda/lib/python3.9/site-packages (from torch) (10.3.2.106)\n",
      "Requirement already satisfied: nvidia-nccl-cu12==2.20.5 in /home/user/miniconda/lib/python3.9/site-packages (from torch) (2.20.5)\n",
      "Requirement already satisfied: nvidia-nvtx-cu12==12.1.105 in /home/user/miniconda/lib/python3.9/site-packages (from torch) (12.1.105)\n",
      "Requirement already satisfied: nvidia-cuda-cupti-cu12==12.1.105 in /home/user/miniconda/lib/python3.9/site-packages (from torch) (12.1.105)\n",
      "Requirement already satisfied: nvidia-cusolver-cu12==11.4.5.107 in /home/user/miniconda/lib/python3.9/site-packages (from torch) (11.4.5.107)\n",
      "Requirement already satisfied: nvidia-nvjitlink-cu12 in /home/user/miniconda/lib/python3.9/site-packages (from nvidia-cusolver-cu12==11.4.5.107->torch) (12.4.127)\n",
      "Requirement already satisfied: langsmith<0.2.0,>=0.1.0 in /home/user/miniconda/lib/python3.9/site-packages (from langchain_community) (0.1.59)\n",
      "Requirement already satisfied: langchain<0.3.0,>=0.2.0 in /home/user/miniconda/lib/python3.9/site-packages (from langchain_community) (0.2.0)\n",
      "Requirement already satisfied: dataclasses-json<0.7,>=0.5.7 in /home/user/miniconda/lib/python3.9/site-packages (from langchain_community) (0.6.6)\n",
      "Requirement already satisfied: tenacity<9.0.0,>=8.1.0 in /home/user/miniconda/lib/python3.9/site-packages (from langchain_community) (8.3.0)\n",
      "Requirement already satisfied: SQLAlchemy<3,>=1.4 in /home/user/miniconda/lib/python3.9/site-packages (from langchain_community) (2.0.30)\n",
      "Requirement already satisfied: langchain-core<0.3.0,>=0.2.0 in /home/user/miniconda/lib/python3.9/site-packages (from langchain_community) (0.2.0)\n",
      "Requirement already satisfied: aiohttp<4.0.0,>=3.8.3 in /home/user/miniconda/lib/python3.9/site-packages (from langchain_community) (3.9.5)\n",
      "Requirement already satisfied: yarl<2.0,>=1.0 in /home/user/miniconda/lib/python3.9/site-packages (from aiohttp<4.0.0,>=3.8.3->langchain_community) (1.9.4)\n",
      "Requirement already satisfied: aiosignal>=1.1.2 in /home/user/miniconda/lib/python3.9/site-packages (from aiohttp<4.0.0,>=3.8.3->langchain_community) (1.3.1)\n",
      "Requirement already satisfied: attrs>=17.3.0 in /home/user/miniconda/lib/python3.9/site-packages (from aiohttp<4.0.0,>=3.8.3->langchain_community) (23.2.0)\n",
      "Requirement already satisfied: frozenlist>=1.1.1 in /home/user/miniconda/lib/python3.9/site-packages (from aiohttp<4.0.0,>=3.8.3->langchain_community) (1.4.1)\n",
      "Requirement already satisfied: async-timeout<5.0,>=4.0 in /home/user/miniconda/lib/python3.9/site-packages (from aiohttp<4.0.0,>=3.8.3->langchain_community) (4.0.3)\n",
      "Requirement already satisfied: multidict<7.0,>=4.5 in /home/user/miniconda/lib/python3.9/site-packages (from aiohttp<4.0.0,>=3.8.3->langchain_community) (6.0.5)\n",
      "Requirement already satisfied: typing-inspect<1,>=0.4.0 in /home/user/miniconda/lib/python3.9/site-packages (from dataclasses-json<0.7,>=0.5.7->langchain_community) (0.9.0)\n",
      "Requirement already satisfied: marshmallow<4.0.0,>=3.18.0 in /home/user/miniconda/lib/python3.9/site-packages (from dataclasses-json<0.7,>=0.5.7->langchain_community) (3.21.2)\n",
      "Requirement already satisfied: pydantic<3,>=1 in /home/user/miniconda/lib/python3.9/site-packages (from langchain<0.3.0,>=0.2.0->langchain_community) (2.7.1)\n",
      "Requirement already satisfied: langchain-text-splitters<0.3.0,>=0.2.0 in /home/user/miniconda/lib/python3.9/site-packages (from langchain<0.3.0,>=0.2.0->langchain_community) (0.2.0)\n",
      "Requirement already satisfied: jsonpatch<2.0,>=1.33 in /home/user/miniconda/lib/python3.9/site-packages (from langchain-core<0.3.0,>=0.2.0->langchain_community) (1.33)\n",
      "Requirement already satisfied: jsonpointer>=1.9 in /home/user/miniconda/lib/python3.9/site-packages (from jsonpatch<2.0,>=1.33->langchain-core<0.3.0,>=0.2.0->langchain_community) (2.4)\n",
      "Requirement already satisfied: orjson<4.0.0,>=3.9.14 in /home/user/miniconda/lib/python3.9/site-packages (from langsmith<0.2.0,>=0.1.0->langchain_community) (3.10.3)\n",
      "Requirement already satisfied: annotated-types>=0.4.0 in /home/user/miniconda/lib/python3.9/site-packages (from pydantic<3,>=1->langchain<0.3.0,>=0.2.0->langchain_community) (0.6.0)\n",
      "Requirement already satisfied: pydantic-core==2.18.2 in /home/user/miniconda/lib/python3.9/site-packages (from pydantic<3,>=1->langchain<0.3.0,>=0.2.0->langchain_community) (2.18.2)\n",
      "Requirement already satisfied: charset-normalizer<4,>=2 in /home/user/miniconda/lib/python3.9/site-packages (from requests->transformers) (3.3.2)\n",
      "Requirement already satisfied: certifi>=2017.4.17 in /home/user/miniconda/lib/python3.9/site-packages (from requests->transformers) (2021.5.30)\n",
      "Requirement already satisfied: idna<4,>=2.5 in /home/user/miniconda/lib/python3.9/site-packages (from requests->transformers) (2.10)\n",
      "Requirement already satisfied: urllib3<3,>=1.21.1 in /home/user/miniconda/lib/python3.9/site-packages (from requests->transformers) (1.26.6)\n",
      "Requirement already satisfied: greenlet!=0.4.17 in /home/user/miniconda/lib/python3.9/site-packages (from SQLAlchemy<3,>=1.4->langchain_community) (3.0.3)\n",
      "Requirement already satisfied: mypy-extensions>=0.3.0 in /home/user/miniconda/lib/python3.9/site-packages (from typing-inspect<1,>=0.4.0->dataclasses-json<0.7,>=0.5.7->langchain_community) (1.0.0)\n",
      "Requirement already satisfied: MarkupSafe>=2.0 in /home/user/miniconda/lib/python3.9/site-packages (from jinja2->torch) (2.1.5)\n",
      "Requirement already satisfied: mpmath>=0.19 in /home/user/miniconda/lib/python3.9/site-packages (from sympy->torch) (1.3.0)\n"
     ]
    }
   ],
   "source": [
    "!pip install accelerate\n",
    "!pip install --upgrade transformers torch langchain_community\n"
   ]
  },
  {
   "cell_type": "markdown",
   "id": "f7182903-d30e-4b20-8853-cbeda22d6659",
   "metadata": {},
   "source": [
    "Hugging Face models can be run locally through the HuggingFacePipeline class."
   ]
  },
  {
   "cell_type": "code",
   "execution_count": null,
   "id": "5f3e4507-4e4d-4feb-ada6-7f4576cf354e",
   "metadata": {
    "tags": []
   },
   "outputs": [],
   "source": [
    "from langchain_community.llms.huggingface_pipeline import HuggingFacePipeline\n",
    "\n",
    "hf = HuggingFacePipeline.from_model_id(\n",
    "    model_id=\"gradientai/Llama-3-8B-Instruct-Gradient-1048k\",\n",
    "    task=\"text-generation\",\n",
    "    pipeline_kwargs={\"temperature\": 0.2, \"max_new_tokens\": 1000\n",
    "                    }\n",
    ")\n",
    "\n",
    "llm = hf \n",
    "llm.invoke(query)"
   ]
  },
  {
   "cell_type": "markdown",
   "id": "de5d27c0-3ccc-49e9-895a-0388e6ff3c24",
   "metadata": {},
   "source": [
    "At a glance, our LLM generates some output that might seem plausible but not accurate or factual. That is because it has not been trained on the forcasting and does not have relevent data to make plausable recommendations."
   ]
  },
  {
   "cell_type": "markdown",
   "id": "b3f29df0-f60a-4282-a46c-19b54a9f0e41",
   "metadata": {},
   "source": [
    "## Q & A chain"
   ]
  },
  {
   "cell_type": "code",
   "execution_count": null,
   "id": "4b6f4b26-249f-45f9-b6b2-d8647efcf62b",
   "metadata": {
    "tags": []
   },
   "outputs": [],
   "source": [
    "# Define the temperature, humidity, and precipitation values\n",
    "temperature = \"25°C\"\n",
    "humidity = \"60%\"\n",
    "precipitation = \"10mm\"\n",
    "\n",
    "# Define the prompt template with f-strings\n",
    "prompt_template = f\"\"\"\n",
    "    We have provided context information below :\n",
    "    ---------------------\n",
    "    {{context}}\n",
    "    ---------------------\n",
    "     We have provided context information about prediction values for the following metrics:\n",
    "    Temperature = {temperature}\n",
    "    Humidity = {humidity}\n",
    "    Precipitation = {precipitation}\n",
    "    Take these metrics into consideration while giving your recommendation and you must hightlight them in your answer\n",
    "    Given this information, please answer the question: {{question}}\n",
    "\"\"\"\n",
    "\n",
    "\n",
    "# Define the input variables including context, question, temperature, humidity, and precipitation\n",
    "PROMPT = PromptTemplate(\n",
    "    template=prompt_template, input_variables=[\"context\", \"question\"]\n",
    ")\n",
    "\n"
   ]
  },
  {
   "cell_type": "markdown",
   "id": "75cb3a13-fa18-460a-942b-a90a2902cf7f",
   "metadata": {},
   "source": [
    "## Use RetrievalQA invoke method to execute the chain"
   ]
  },
  {
   "cell_type": "code",
   "execution_count": 15,
   "id": "4a5f8538-5a24-4e5d-ba77-26ddfba0b214",
   "metadata": {
    "tags": []
   },
   "outputs": [],
   "source": [
    "# Create RetrievalQA instance\n",
    "retrievalQA = RetrievalQA.from_chain_type(\n",
    "    llm=llm,\n",
    "    chain_type=\"stuff\",\n",
    "    retriever=retriever,\n",
    "    return_source_documents=True,\n",
    "    chain_type_kwargs={\"prompt\": PROMPT}\n",
    ")\n"
   ]
  },
  {
   "cell_type": "code",
   "execution_count": null,
   "id": "7ff6e1bd-9942-41c2-b1b7-1ba84883ae4c",
   "metadata": {
    "tags": []
   },
   "outputs": [],
   "source": [
    "# Call the QA chain with our query.\n",
    "import time\n",
    "temperature = \"25°C\"\n",
    "humidity = \"60%\"\n",
    "precipitation = \"10mm\"\n",
    "t0=time.time()\n",
    "result = retrievalQA.invoke({\"query\": query})\n",
    "print(f\"Time: {time.time()-t0}\")\n",
    "print(result['result'])"
   ]
  },
  {
   "cell_type": "code",
   "execution_count": 20,
   "metadata": {
    "tags": []
   },
   "outputs": [
    {
     "name": "stdout",
     "output_type": "stream",
     "text": [
      "\n",
      "\n",
      "As a farmer in Morocco, the changing climate and increasing water scarcity pose significant challenges for your agricultural operations. According to the World Bank report, the country's water resources have been declining, with the available water resources decreasing from 3.1 billion m3/year (58% of satisfaction) in the past to an unknown level currently. This has led to water restrictions for collective irrigation schemes, with an average of 64% water restrictions over the last four irrigation seasons, resulting in only 36% of the theoretical needs being provided.\n",
      "\n",
      "Based on the weather patterns and projections, it is recommended that you consider shifting some of your traditional rain-fed cereal production to more resilient crops such as olive trees or almonds, especially in fragile areas. This is because increased temperatures, prolonged dry periods, and droughts are likely to increase soil erosion and exacerbate land degradation, making it more difficult to grow cereals.\n",
      "\n",
      "Additionally, as the majority of your agricultural production is reliant upon rain-fed agriculture, you may want to consider implementing conservation agriculture techniques, such as no-tillage, to strengthen your operations. This can help to improve soil moisture retention, reduce soil erosion, and increase crop yields.\n",
      "\n",
      "Another recommendation is to take advantage of the National Irrigation Water Saving Program, which aims to establish drip irrigation over 555,000 hectares. This can help to alleviate water stress and ensure a more sustainable management of water resources for irrigated agriculture.\n",
      "\n",
      "Furthermore, the report highlights that early season vegetables and specialty crops such as Argan have the highest value for export. Therefore, it may be worth considering shifting some of your production to these crops, which are less dependent on rainfall and have higher market value.\n",
      "\n",
      "Finally, it is essential to note that increased temperatures are likely to increase the presence of pests, which can further impact crop yields. Therefore, it is recommended that you implement pest management strategies, such as crop rotation, biological control, and integrated pest management, to mitigate the risks associated with pest infestations.\n",
      "\n",
      "In summary, based on the weather patterns, projections, and the declining water resources, it is recommended that you consider shifting some of your traditional rain-fed cereal production to more resil\n"
     ]
    },
    {
     "data": {
      "text/html": [
       "<table border=\"1\" class=\"dataframe\">\n",
       "  <thead>\n",
       "    <tr style=\"text-align: right;\">\n",
       "      <th></th>\n",
       "      <th>Score</th>\n",
       "      <th>Text</th>\n",
       "    </tr>\n",
       "  </thead>\n",
       "  <tbody>\n",
       "    <tr>\n",
       "      <th>0</th>\n",
       "      <td>0.041924</td>\n",
       "      <td>15<br>CLIMATE RISK COUNTRY PROFILE: MOROCCOcountry’s economic growth has overall become more resilient, agriculture remains dependent on the climate and <br>thus remains highly vulnerable. Cereals are a predominant crop in Morocco, planted on nearly 43% of all agricultural <br>areas, however cereals are less dominant in terms of value as compared to Morocco’s other agriculture outputs. <br>Key agricultural exports include citrus fruit (especially oranges), vegetables (e.g., pepper, tomato, green bean), <br>almonds, table olives and olive oil, dairy products, and, more recently, blueberries, cherries and asparagus. Early <br>season vegetables and specialty crops such as Argan, have the highest value for export.<br>Morocco has made progress in recent years to expand irrigation for commercial agriculture. Over the last 15 years, <br>significant efforts have been made to increase water productivity in agriculture. This has led to the integration of <br>localized, on-farm irrigation (drip and sprinkler). At the end of 2018, the agricultural areas using modern on-farm <br>irrigation techniques increased 3.5 times as compared to a baseline on 2008; increased water productivity no <br>reaches 560,000 ha. The main irrigated areas are the Gharb and Loukkos in the northwest, the Tadla in the center-<br>north of the Atlas Mountain region, Al Haouz in the Marrakech region, the Souss-Massa (SM) in the Agadir region, <br>the Ouarzazate and Tafilalet south of the Atlas Mountains, and the Low Moulouya in the northeast. Moroccan <br>agriculture and livestock also remain vulnerable to droughts. Additional challenges for the sector result from <br>farmer’s inability to formally own land or are unable to provide notarized land titles, making it difficult to obtain credit <br>or permits (e.g., for digging wells), and thereby limiting investment for irrigation and other needed inputs.47 Perhaps <br>the most significant challenges for the sector include increasing water restrictions for collective irrigation schemes. <br>For example, in Oum Er Bia and Tensift basins, over the last four irrigation seasons, water restrictions averaged <br>64% (resulting in only 36% of the theoretical needs were provided), with an extreme value of 72% in 2020–21.</td>\n",
       "    </tr>\n",
       "    <tr>\n",
       "      <th>1</th>\n",
       "      <td>0.163892</td>\n",
       "      <td>Climate Change Impacts<br>Faced with increasing climate variability, Moroccan agriculture has adapted through diversification and rising <br>yields. Although cereal production remains dominant, there is an increasing trend towards horticulture and livestock <br>production.48 Agriculture remains a key sector for Morocco’s economy, food security and rural livelihoods. However, the <br>sector has suffered due to population pressures and increasingly erratic rainfall, which have pushed production <br>to fragile and degraded land. 87% of the country’s crop total production remains primarily rainfed and thus highly <br>vulnerable to increased rainfall variability (particularly barley and wheat). For example, the 2016 winter grain <br>harvest saw harvested yields 70% lower than in 2015 due to widespread drought. Hotter, drier conditions are <br>expected to increase crops’ water requirements by up to 12%, increasing demand for irrigation and further stressing <br>limited water resources. Drought also promotes proliferation of the Hessian fly, increasing risk of damage to wheat  <br>yields. Rising temperatures are expected to reduced yields by 50%–75% of rainfed drops during dry years. Erratic <br>precipitation and increased aridity and drought conditions will result in shortened growing seasons, reduced <br>yields and lower productivity. Decreased water availability will continue to impact irrigation potential and in turn, <br>reduce profitability of irrigated agriculture as alternatives require the pumping of groundwater.49 Morocco’s theoretical <br>water allocation is 5.3 billion m3 per year, however, the average of water actually allocated over the last 11 years <br>was 3.1 billion m3/year (58% of satisfaction).<br>47  World Bank (2018). Climate Variability, Drought, and Drought Management in Morocco’s Agricultural Sector. URL: http:/ /<br>documents.worldbank.org/curated/en/353801538414553978/pdf/130404-WP-P159851-Morocco-WEB.pdf<br>48  World Bank (2018). Climate Variability, Drought, and Drought Management in Morocco’s Agricultural Sector. URL: http:/ /<br>documents.worldbank.org/curated/en/353801538414553978/pdf/130404-WP-P159851-Morocco-WEB.pdf<br>49  USAID (2016). Climate Change Risk Profile – Morocco.</td>\n",
       "    </tr>\n",
       "  </tbody>\n",
       "</table>"
      ],
      "text/plain": [
       "<IPython.core.display.HTML object>"
      ]
     },
     "metadata": {},
     "output_type": "display_data"
    }
   ],
   "source": [
    "# Define functions to pretty print and visualize retrieved nodes\n",
    "def pretty_print(df):\n",
    "    return display(HTML(df.to_html().replace(\"\\\\n\", \"<br>\")))\n",
    "\n",
    "def visualize_retrieved_nodes(nodes) -> None:\n",
    "    result_dicts = []\n",
    "    for node in nodes:\n",
    "        result_dict = {\"Score\": node.score, \"Text\": node.node.get_text()}\n",
    "        result_dicts.append(result_dict)\n",
    "\n",
    "    pretty_print(pd.DataFrame(result_dicts))\n",
    "\n",
    "# Print the response\n",
    "print(response.response)\n",
    "\n",
    "# Visualize the source nodes\n",
    "nodes = response.source_nodes\n",
    "visualize_retrieved_nodes(nodes)"
   ]
  },
  {
   "cell_type": "code",
   "execution_count": null,
   "id": "3b401d76-36fa-4377-97b9-37781956de09",
   "metadata": {},
   "outputs": [],
   "source": []
  },
  {
   "cell_type": "markdown",
   "id": "55845865-0445-4c11-b633-0081b1d776b1",
   "metadata": {},
   "source": [
    "## UI"
   ]
  },
  {
   "cell_type": "code",
   "execution_count": null,
   "id": "70ae2855-e3c8-4340-895d-86e1e4dbe663",
   "metadata": {},
   "outputs": [],
   "source": [
    "!pip install gradio"
   ]
  },
  {
   "cell_type": "code",
   "execution_count": null,
   "id": "bb3d2461-8abc-4a37-8298-8e53c3c670b7",
   "metadata": {},
   "outputs": [],
   "source": [
    "import gradio as gr\n",
    "\n",
    "# Define the function to answer the question\n",
    "def answer_question(prompt):\n",
    "    # Call the QA chain with the provided prompt\n",
    "    result = retrievalQA.invoke({\"query\": prompt})\n",
    "    return result['result']\n",
    "\n",
    "# Create Gradio Interface\n",
    "gr.Interface(\n",
    "    fn=answer_question,\n",
    "    inputs=gr.inputs.Textbox(lines=5, label=\"Enter Prompt\"),\n",
    "    outputs=\"text\",\n",
    "    title=\"Question Answering System\",\n",
    "    description=\"Enter a prompt to get the answer from the model.\"\n",
    ").launch()\n"
   ]
  },
  {
   "cell_type": "code",
   "execution_count": null,
   "id": "245de3fa-09c3-4d93-85c1-279482001fd0",
   "metadata": {},
   "outputs": [],
   "source": []
  },
  {
   "cell_type": "code",
   "execution_count": null,
   "id": "dae9a83e-56dc-4c7b-8dea-e035d21776bd",
   "metadata": {},
   "outputs": [],
   "source": []
  },
  {
   "cell_type": "code",
   "execution_count": null,
   "id": "df4a16fa-82da-4be8-8abe-f9604eacf673",
   "metadata": {},
   "outputs": [],
   "source": []
  }
 ],
 "metadata": {
  "kernelspec": {
   "display_name": "Python 3 (ipykernel)",
   "language": "python",
   "name": "python3"
  },
  "language_info": {
   "codemirror_mode": {
    "name": "ipython",
    "version": 3
   },
   "file_extension": ".py",
   "mimetype": "text/x-python",
   "name": "python",
   "nbconvert_exporter": "python",
   "pygments_lexer": "ipython3",
   "version": "3.9.5"
  }
 },
 "nbformat": 4,
 "nbformat_minor": 5
}
